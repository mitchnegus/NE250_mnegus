{
 "cells": [
  {
   "cell_type": "markdown",
   "metadata": {},
   "source": [
    "# NE 250 – Homework 2\n",
    "## Problem 6\n",
    "###### 10/6/2017"
   ]
  },
  {
   "cell_type": "markdown",
   "metadata": {},
   "source": [
    "***a)***  Like in Problem 5,\n",
    "\n",
    "$$k_{\\infty} = \\frac{\\int_0^{\\infty} \\nu \\Sigma_f(E)\\phi(E)\\,dE}{\\int_0^{\\infty} \\Sigma_a(E)\\phi(E)\\,dE} .$$\n",
    "\n",
    "Again, since we are only considering cross sections averaged over the fast spectrum, we can state that $\\Sigma_X(E) = \\Sigma_{X,F},$ and then \n",
    "\n",
    "$$ k_{\\infty} = \\frac{\\nu \\Sigma_{f,F} \\int_0^{\\infty} \\phi(E)\\,dE}{\\Sigma_{a,F} \\int_0^{\\infty} \\phi(E)\\,dE} = \\frac{\\nu \\Sigma_{f,F}}{\\Sigma_{a,F}}.$$"
   ]
  },
  {
   "cell_type": "markdown",
   "metadata": {},
   "source": [
    "Next, we repeat our decomposition of the numerator and denominator. For neutron production, we find\n",
    "$$ \\nu\\Sigma_f = \\sum_i \\nu_i n_i \\sigma_{f,i} $$\n",
    "\n",
    "where $i$ represents the $i^{\\text{th}}$ fuel. "
   ]
  },
  {
   "cell_type": "code",
   "execution_count": 1,
   "metadata": {
    "collapsed": false
   },
   "outputs": [],
   "source": [
    "def production(fuels,nu,n,xsf):\n",
    "    p = [nu[i]*n[i]*xsf[i] for i in fuels]\n",
    "    return sum(p)"
   ]
  },
  {
   "cell_type": "markdown",
   "metadata": {},
   "source": [
    "For neutron absorption,\n",
    "\n",
    "$$ \\Sigma_a = \\sum_j n_j \\sigma_{a,j} $$\n",
    "\n",
    "and $j$ represents the $j^{\\text{th}}$ material in the reactor."
   ]
  },
  {
   "cell_type": "code",
   "execution_count": 2,
   "metadata": {
    "collapsed": true
   },
   "outputs": [],
   "source": [
    "def absorption(materials,n,xsa):\n",
    "    a = [n[j]*xsa[j] for j in materials]\n",
    "    return sum(a)"
   ]
  },
  {
   "cell_type": "markdown",
   "metadata": {},
   "source": [
    "We substitute these into our equation for $k_{\\infty}$ and solve."
   ]
  },
  {
   "cell_type": "code",
   "execution_count": 3,
   "metadata": {
    "collapsed": false
   },
   "outputs": [],
   "source": [
    "def k_infinity(fuels,materials,nu,n,xsf,xsa):\n",
    "    k_inf = production(fuels,nu,n,xsf)/absorption(materials,n,xsa)\n",
    "    return k_inf"
   ]
  },
  {
   "cell_type": "markdown",
   "metadata": {},
   "source": [
    "We are given the material densities in $[\\text{g/cm}^3]$, the volume fractions of the materials, and the microscopic cross sections $[1/\\text{cm}^2]$."
   ]
  },
  {
   "cell_type": "code",
   "execution_count": 4,
   "metadata": {
    "collapsed": false
   },
   "outputs": [],
   "source": [
    "densities = {'PuO2': 11.0,\n",
    "             'UO2':  11.0,\n",
    "             'Na':   0.97,\n",
    "             'Fe':   7.87\n",
    "            }\n",
    "vol_fracs = {'PuO2': 0.15*0.30,\n",
    "             'UO2':  0.85*0.30,\n",
    "             'Na':   0.500,\n",
    "             'Fe':   0.200\n",
    "            }\n",
    "xsf = {'PuO2': 1.95e-24,\n",
    "       'UO2':  0.05e-24,\n",
    "      }\n",
    "xsa = {'PuO2': 2.4000e-24,\n",
    "       'UO2':  0.4040e-24,\n",
    "       'Na':   0.0018e-24,\n",
    "       'Fe':   0.0087e-24\n",
    "      }"
   ]
  },
  {
   "cell_type": "markdown",
   "metadata": {},
   "source": [
    "The number densities can be found by using the molar masses of the materials $[\\text{g/mol}]$ and the formula, $n_j = f_j\\frac{\\rho_j N_A}{m_j}$."
   ]
  },
  {
   "cell_type": "code",
   "execution_count": 5,
   "metadata": {
    "collapsed": false
   },
   "outputs": [],
   "source": [
    "m = {'PuO2': 244+15.999*2,\n",
    "     'UO2':  238.03+15.999*2,\n",
    "     'Na':   22.990,\n",
    "     'Fe':   55.845\n",
    "    }\n",
    "n = {material: vol_fracs[material]*densities[material]*6.022e23/m[material] for material in densities}"
   ]
  },
  {
   "cell_type": "markdown",
   "metadata": {},
   "source": [
    "We are also given $\\nu_{\\text{PuO}_2}$ and $\\nu_{\\text{UO}_2}$."
   ]
  },
  {
   "cell_type": "code",
   "execution_count": 6,
   "metadata": {
    "collapsed": true
   },
   "outputs": [],
   "source": [
    "nu = {'PuO2': 2.98,\n",
    "      'UO2':  2.47\n",
    "     }"
   ]
  },
  {
   "cell_type": "markdown",
   "metadata": {},
   "source": [
    "Now we can solve for $k_{\\infty}$"
   ]
  },
  {
   "cell_type": "code",
   "execution_count": 7,
   "metadata": {
    "collapsed": false
   },
   "outputs": [
    {
     "name": "stdout",
     "output_type": "stream",
     "text": [
      "k_infinity = 1.3324856823514228\n"
     ]
    }
   ],
   "source": [
    "fuels = ['PuO2','UO2']\n",
    "materials = ['PuO2','UO2','Na','Fe']\n",
    "print('k_infinity =',k_infinity(fuels,materials,nu,n,xsf,xsa))"
   ]
  },
  {
   "cell_type": "markdown",
   "metadata": {},
   "source": [
    "***b)*** The masses of the total core and fuel are given by $\\sum_k f_k \\rho_k$, where $k$ represents the $k^{\\text{th}}$ material or fuel."
   ]
  },
  {
   "cell_type": "code",
   "execution_count": 8,
   "metadata": {
    "collapsed": true
   },
   "outputs": [],
   "source": [
    "def mass(components,vol_fracs,densities):\n",
    "    return sum([vol_fracs[k]*densities[k] for k in components])"
   ]
  },
  {
   "cell_type": "code",
   "execution_count": 9,
   "metadata": {
    "collapsed": false
   },
   "outputs": [
    {
     "name": "stdout",
     "output_type": "stream",
     "text": [
      "The fraction of the core which is fuel is 61.579%\n"
     ]
    }
   ],
   "source": [
    "total_mass = mass(materials,vol_fracs,densities)\n",
    "fuel_mass = mass(fuels,vol_fracs,densities)\n",
    "frac = fuel_mass/total_mass\n",
    "print('The fraction of the core which is fuel is {}%'.format(round(100*frac,3)))"
   ]
  },
  {
   "cell_type": "markdown",
   "metadata": {},
   "source": [
    "***c)*** If $k = 1$ and the non-leakage probability is 0.90, then we can reexpress our earlier equation as\n",
    "\n",
    "$$ k = 1 = P_{NL}\\frac{\\nu \\Sigma_{f,F} \\int_0^{\\infty} \\phi(E)\\,dE}{\\Sigma_{a,F} \\int_0^{\\infty} \\phi(E)\\,dE} = P_{NL}\\frac{\\nu \\Sigma_{f,F}}{\\Sigma_{a,F}},$$\n",
    "\n",
    "or \n",
    "\n",
    "$$ P_{NL}\\nu \\Sigma_{f,F} = \\Sigma_{a,F}. $$\n",
    "\n",
    "When separated into individual materials, this is \n",
    "\n",
    "$$ P_{NL}\\sum_i \\nu_i n_i \\sigma_{f,i} = \\sum_j n_j \\sigma_{a,j} .$$\n",
    "\n",
    "or explicitly\n",
    "\n",
    "$$ P_{NL} \\left( \\nu_{\\text{PuO}_2} n_{\\text{PuO}_2} \\sigma_{F,\\text{PuO}_2} + \\nu_{\\text{UO}_2} n_{\\text{UO}_2} \\sigma_{F,\\text{UO}_2}\\right) = n_{\\text{PuO}_2} \\sigma_{a,F,\\text{PuO}_2} + n_{\\text{UO}_2} \\sigma_{a,F,\\text{UO}_2} + n_{\\text{Fe}} \\sigma_{a,F,\\text{Fe}} + n_{\\text{Na}} \\sigma_{a,F,\\text{Na}} $$\n",
    "\n",
    "We recall that $n_{\\text{PuO}_2} = f_{\\text{f,PuO}_2}(0.3)\\frac{\\rho_{\\text{PuO}_2} N_A}{m_{\\text{PuO}_2}}$ and $n_{\\text{UO}_2} = (1-f_{\\text{f,PuO}_2})(0.3)\\frac{\\rho_{\\text{UO}2} N_A}{m_{\\text{UO}_2}}$, while $n_{\\text{Na}} = (0.5)\\frac{\\rho_{\\text{Na}} N_A}{m_{\\text{Na}}}$and $n_{\\text{Fe}} = (0.2)\\frac{\\rho_{\\text{Fe}} N_A}{m_{\\text{Fe}}}$.\n",
    "\n",
    "Then,\n",
    "$$ P_{NL} \\left( \\nu_{\\text{PuO}_2} f_{\\text{f,PuO}_2}(0.3)\\frac{\\rho_{\\text{PuO}_2} N_A}{m_{\\text{PuO}_2}} \\sigma_{F,\\text{PuO}_2} + \\nu_{\\text{UO}_2} (1-f_{\\text{f,PuO}_2})(0.3)\\frac{\\rho_{\\text{UO}2} N_A}{m_{\\text{UO}_2}} \\sigma_{F,\\text{UO}_2}\\right) = f_{\\text{f,PuO}_2}(0.3)\\frac{\\rho_{\\text{PuO}_2} N_A}{m_{\\text{PuO}_2}} \\sigma_{a,F,\\text{PuO}_2} + (1-f_{\\text{f,PuO}_2})(0.3)\\frac{\\rho_{\\text{UO}2} N_A}{m_{\\text{UO}_2}} \\sigma_{a,F,\\text{UO}_2} + (0.2)\\frac{\\rho_{\\text{Fe}} N_A}{m_{\\text{Fe}}} \\sigma_{a,F,\\text{Fe}} + (0.5)\\frac{\\rho_{\\text{Na}} N_A}{m_{\\text{Na}}} \\sigma_{a,F,\\text{Na}} $$\n",
    "\n",
    "which can be expanded to\n",
    "\n",
    "$$ f_{\\text{f,PuO}_2} P_{NL} \\nu_{\\text{PuO}_2} (0.3)\\frac{\\rho_{\\text{PuO}_2}}{m_{\\text{PuO}_2}} \\sigma_{F,\\text{PuO}_2} + P_{NL} \\nu_{\\text{UO}_2}(0.3)\\frac{\\rho_{\\text{UO}2}}{m_{\\text{UO}_2}} \\sigma_{F,\\text{UO}_2} - f_{\\text{f,PuO}_2}P_{NL} \\nu_{\\text{UO}_2}(0.3)\\frac{\\rho_{\\text{UO}2}}{m_{\\text{UO}_2}} \\sigma_{F,\\text{UO}_2} = f_{\\text{f,PuO}_2}(0.3)\\frac{\\rho_{\\text{PuO}_2}}{m_{\\text{PuO}_2}} \\sigma_{a,F,\\text{PuO}_2} + (0.3)\\frac{\\rho_{\\text{UO}2}}{m_{\\text{UO}_2}} \\sigma_{a,F,\\text{UO}_2} - f_{\\text{f,PuO}_2}(0.3)\\frac{\\rho_{\\text{UO}2}}{m_{\\text{UO}_2}} \\sigma_{a,F,\\text{UO}_2} + (0.2)\\frac{\\rho_{\\text{Fe}}}{m_{\\text{Fe}}} \\sigma_{a,F,\\text{Fe}} + (0.5)\\frac{\\rho_{\\text{Na}}}{m_{\\text{Na}}} \\sigma_{a,F,\\text{Na}} $$\n",
    "\n",
    "and simplified to\n",
    "\n",
    "$$ f_{\\text{f,PuO}_2} \\left(P_{NL} \\nu_{\\text{PuO}_2} (0.3)\\frac{\\rho_{\\text{PuO}_2}}{m_{\\text{PuO}_2}} \\sigma_{F,\\text{PuO}_2} - P_{NL} \\nu_{\\text{UO}_2}(0.3)\\frac{\\rho_{\\text{UO}2}}{m_{\\text{UO}_2}} \\sigma_{F,\\text{UO}_2} - (0.3)\\frac{\\rho_{\\text{PuO}_2}}{m_{\\text{PuO}_2}} \\sigma_{a,F,\\text{PuO}_2} + (0.3)\\frac{\\rho_{\\text{UO}2}}{m_{\\text{UO}_2}} \\sigma_{a,F,\\text{UO}_2}\\right) = (0.3)\\frac{\\rho_{\\text{UO}2}}{m_{\\text{UO}_2}} \\sigma_{a,F,\\text{UO}_2}  + (0.2)\\frac{\\rho_{\\text{Fe}}}{m_{\\text{Fe}}} \\sigma_{a,F,\\text{Fe}} + (0.5)\\frac{\\rho_{\\text{Na}}}{m_{\\text{Na}}} \\sigma_{a,F,\\text{Na}} - P_{NL} \\nu_{\\text{UO}_2}(0.3)\\frac{\\rho_{\\text{UO}2}}{m_{\\text{UO}_2}} \\sigma_{F,\\text{UO}_2}$$\n",
    "\n",
    "\n",
    "$$ f_{\\text{f,PuO}_2} = \\frac{(0.3)\\frac{\\rho_{\\text{UO}2}}{m_{\\text{UO}_2}} \\sigma_{a,F,\\text{UO}_2}  + (0.2)\\frac{\\rho_{\\text{Fe}}}{m_{\\text{Fe}}} \\sigma_{a,F,\\text{Fe}} + (0.5)\\frac{\\rho_{\\text{Na}}}{m_{\\text{Na}}} \\sigma_{a,F,\\text{Na}} - P_{NL} \\nu_{\\text{UO}_2}(0.3)\\frac{\\rho_{\\text{UO}2}}{m_{\\text{UO}_2}} \\sigma_{F,\\text{UO}_2}}{0.3\\left(P_{NL} \\nu_{\\text{PuO}_2}\\frac{\\rho_{\\text{PuO}_2}}{m_{\\text{PuO}_2}} \\sigma_{F,\\text{PuO}_2} - P_{NL} \\nu_{\\text{UO}_2}\\frac{\\rho_{\\text{UO}2}}{m_{\\text{UO}_2}} \\sigma_{F,\\text{UO}_2} - \\frac{\\rho_{\\text{PuO}_2}}{m_{\\text{PuO}_2}} \\sigma_{a,F,\\text{PuO}_2} + \\frac{\\rho_{\\text{UO}2}}{m_{\\text{UO}_2}} \\sigma_{a,F,\\text{UO}_2}\\right)}$$\n",
    "\n",
    "\n"
   ]
  },
  {
   "cell_type": "code",
   "execution_count": 10,
   "metadata": {
    "collapsed": false
   },
   "outputs": [
    {
     "name": "stdout",
     "output_type": "stream",
     "text": [
      "The reactor will be critical if 10.322% of the fuel volume is PuO2 (3.097% of the core total volume)\n"
     ]
    }
   ],
   "source": [
    "P_NL = 0.90\n",
    "numerator = 0.3*xsa['UO2']*densities['UO2']/m['UO2'] + 0.2*xsa['Fe']*densities['Fe']/m['Fe'] + 0.5*xsa['Na']*densities['Na']/m['Na'] - P_NL*0.3*nu['UO2']*xsf['UO2']*densities['UO2']/m['UO2']\n",
    "denominator = 0.3*(P_NL*nu['PuO2']*xsf['PuO2']*densities['PuO2']/m['PuO2'] - P_NL*nu['UO2']*xsf['UO2']*densities['UO2']/m['UO2'] - xsa['PuO2']*densities['PuO2']/m ['PuO2']+ xsa['UO2']*densities['UO2']/m['UO2'])\n",
    "f = numerator/denominator\n",
    "print('The reactor will be critical if {}% of the fuel volume is PuO2 ({}% of the core total volume)'.format(round(100*f,3),round(0.3*100*f,3)))"
   ]
  }
 ],
 "metadata": {
  "kernelspec": {
   "display_name": "Python 3",
   "language": "python",
   "name": "python3"
  },
  "language_info": {
   "codemirror_mode": {
    "name": "ipython",
    "version": 3
   },
   "file_extension": ".py",
   "mimetype": "text/x-python",
   "name": "python",
   "nbconvert_exporter": "python",
   "pygments_lexer": "ipython3",
   "version": "3.6.0"
  }
 },
 "nbformat": 4,
 "nbformat_minor": 2
}
