{
 "cells": [
  {
   "cell_type": "markdown",
   "metadata": {},
   "source": [
    "# NE 250 – Homework 2\n",
    "## Problem 5\n",
    "###### 10/6/2017"
   ]
  },
  {
   "cell_type": "markdown",
   "metadata": {},
   "source": [
    "A critical reactor has a multiplication factor of $k=1$. The multiplication factor (for an infinite reactor) can be defined as\n",
    "\n",
    "$$ k_{\\infty} \\equiv \\frac{\\text{\\# neutrons produced}}{\\text{\\# neutrons absorbed}} $$\n",
    "\n",
    "Mathematically, the number of neutrons produced is $\\int_0^{\\infty} \\nu \\Sigma_f(E)\\phi(E)\\,dE$ and the number of neutrons absorbed is $\\int_0^{\\infty} \\Sigma_a(E)\\phi(E)\\,dE$. Altogether, we can mathematically describe a critical reactor as \n",
    "\n",
    "$$ 1 = \\frac{\\int_0^{\\infty} \\nu \\Sigma_f(E)\\phi(E)\\,dE}{\\int_0^{\\infty} \\Sigma_a(E)\\phi(E)\\,dE} $$\n",
    "\n",
    "or equivalently\n",
    "\n",
    "$$ \\int_0^{\\infty} \\nu \\Sigma_f(E)\\phi(E)\\,dE = \\int_0^{\\infty} \\Sigma_a(E)\\phi(E)\\,dE. $$\n",
    "\n",
    "Since we are considering only thermal cross sections, we will let $\\Sigma_X(E) = \\Sigma_X(0.025\\text{ eV}) = \\Sigma_{X,T}$ and we find\n",
    "\n",
    "$$ \\nu \\Sigma_{f,T} \\int_0^{\\infty} \\phi(E)\\,dE = \\Sigma_{a,T} \\int_0^{\\infty} \\phi(E)\\,dE. $$\n",
    "The integrals over flux cancel, and so\n",
    "$$ \\nu \\Sigma_{f,T} = \\Sigma_{a,T} .$$\n",
    "\n",
    "The macroscopic cross sections can be rewritten as $\\Sigma_{f,T} = \\Sigma_{f,T,\\text{f}}$ and $\\Sigma_{a,T} = \\Sigma_{a,T,\\text{f}} + \\Sigma_{a,T,\\text{m}}$ where subscripts $\\text{f}$ and $\\text{m}$ denote fuel and moderator, respectively. Furthermore, each macroscopic cross section for each material can be expressed in terms of the material's number density and microscopic cross section, $\\Sigma = n\\sigma$. In total\n",
    "\n",
    "$$ \\nu n_{\\text{f}} \\sigma_{f,T,\\text{f}} = n_{\\text{f}} \\sigma_{a,T,\\text{f}} + n_{\\text{m}} \\sigma_{a,T,\\text{m}} .$$\n",
    "\n",
    "The fuel-to-moderator (number) density ratio at criticality can then be expressed as\n",
    "\n",
    "$$ \\frac{n_{\\text{f}}}{n_{\\text{m}}} = \\frac{\\sigma_{a,T,\\text{m}}}{\\nu \\sigma_{f,T,\\text{f}} - \\sigma_{a,T,\\text{f}}} .$$"
   ]
  },
  {
   "cell_type": "code",
   "execution_count": 1,
   "metadata": {
    "collapsed": true
   },
   "outputs": [],
   "source": [
    "def FMratio(xsa_mod,xsa_fuel,xsf_fuel,nu):\n",
    "    return xsa_mod/(nu*xsf_fuel - xsa_fuel)"
   ]
  },
  {
   "cell_type": "markdown",
   "metadata": {},
   "source": [
    "We can define our thermal cross sections as follows (from ENDF/B-VII.1)"
   ]
  },
  {
   "cell_type": "code",
   "execution_count": 2,
   "metadata": {
    "collapsed": true
   },
   "outputs": [],
   "source": [
    "xsf = {'U235': 585.086}\n",
    "xsa = {'C12':   0.00336,\n",
    "            'Be9':   0.01004,\n",
    "            'H1':    0.33201,\n",
    "            'H2':    0.00051,\n",
    "            'O16':   0.00019,\n",
    "            'U235':  585.086 + 98.6864\n",
    "           }\n",
    "xsa['graphite'] = xsa['C12']\n",
    "xsa['water'] = 2*xsa['H1'] + xsa['O16']\n",
    "xsa['heavy water'] = 2*xsa['H2'] + xsa['O16']"
   ]
  },
  {
   "cell_type": "markdown",
   "metadata": {},
   "source": [
    "***a) Graphite***"
   ]
  },
  {
   "cell_type": "code",
   "execution_count": 3,
   "metadata": {
    "collapsed": false
   },
   "outputs": [
    {
     "name": "stdout",
     "output_type": "stream",
     "text": [
      "Critical Fuel-to-Moderator Ratio:  4.5457204996214396e-06\n"
     ]
    }
   ],
   "source": [
    "xsa_mod=xsa['graphite']\n",
    "print('Critical Fuel-to-Moderator Ratio: ',FMratio(xsa_mod,xsa['U235'],xsf['U235'],nu=2.432))"
   ]
  },
  {
   "cell_type": "markdown",
   "metadata": {},
   "source": [
    "***b) Beryllium***"
   ]
  },
  {
   "cell_type": "code",
   "execution_count": 4,
   "metadata": {
    "collapsed": false
   },
   "outputs": [
    {
     "name": "stdout",
     "output_type": "stream",
     "text": [
      "Critical Fuel-to-Moderator Ratio:  1.358304577863073e-05\n"
     ]
    }
   ],
   "source": [
    "xsa_mod=xsa['Be9']\n",
    "print('Critical Fuel-to-Moderator Ratio: ',FMratio(xsa_mod,xsa['U235'],xsf['U235'],nu=2.432))"
   ]
  },
  {
   "cell_type": "markdown",
   "metadata": {},
   "source": [
    "***c) Water***"
   ]
  },
  {
   "cell_type": "code",
   "execution_count": 5,
   "metadata": {
    "collapsed": false
   },
   "outputs": [
    {
     "name": "stdout",
     "output_type": "stream",
     "text": [
      "Critical Fuel-to-Moderator Ratio:  0.0008986050634087967\n"
     ]
    }
   ],
   "source": [
    "xsa_mod=xsa['water']\n",
    "print('Critical Fuel-to-Moderator Ratio: ',FMratio(xsa_mod,xsa['U235'],xsf['U235'],nu=2.432))"
   ]
  },
  {
   "cell_type": "markdown",
   "metadata": {},
   "source": [
    "***d) Heavy Water***"
   ]
  },
  {
   "cell_type": "code",
   "execution_count": 6,
   "metadata": {
    "collapsed": false
   },
   "outputs": [
    {
     "name": "stdout",
     "output_type": "stream",
     "text": [
      "Critical Fuel-to-Moderator Ratio:  1.6370005370660543e-06\n"
     ]
    }
   ],
   "source": [
    "xsa_mod=xsa['heavy water']\n",
    "print('Critical Fuel-to-Moderator Ratio: ',FMratio(xsa_mod,xsa['U235'],xsf['U235'],nu=2.432))"
   ]
  }
 ],
 "metadata": {
  "kernelspec": {
   "display_name": "Python 3",
   "language": "python",
   "name": "python3"
  },
  "language_info": {
   "codemirror_mode": {
    "name": "ipython",
    "version": 3
   },
   "file_extension": ".py",
   "mimetype": "text/x-python",
   "name": "python",
   "nbconvert_exporter": "python",
   "pygments_lexer": "ipython3",
   "version": "3.6.0"
  }
 },
 "nbformat": 4,
 "nbformat_minor": 2
}
