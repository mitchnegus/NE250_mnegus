{
 "cells": [
  {
   "cell_type": "markdown",
   "metadata": {},
   "source": [
    "# NE 250 – Homework 2\n",
    "## Problem 3\n",
    "###### 10/6/2017"
   ]
  },
  {
   "cell_type": "code",
   "execution_count": 1,
   "metadata": {
    "collapsed": true
   },
   "outputs": [],
   "source": [
    "import math"
   ]
  },
  {
   "cell_type": "markdown",
   "metadata": {},
   "source": [
    "The slight (negative) change in neutron intensity at some distance $x$ into a material, $dI(x)$, is equivalent to the product of the neutron intensity at that point, the number density of the material, the total cross section of the material (giving the macroscopic cross section as the chance of a collision per some distance $dx$), multiplied by the small distance $dx$.\n",
    "\n",
    "$$ -dI(x) = I(x)\\Sigma_t \\,dx $$\n",
    "\n",
    "We can solve this differential equation to find the intensity at $x$,\n",
    "\n",
    "$$ I(x) = I_0 e^{-\\Sigma_t x} $$\n",
    "The fraction of neutrons remaining (uncollided) at distance $x$ corresponds to the probability of survival for a neutron going that distance\n",
    "\n",
    "$$ P(x) = \\frac{I(x)}{I_0} = e^{-\\Sigma_t x} .$$"
   ]
  },
  {
   "cell_type": "code",
   "execution_count": 2,
   "metadata": {
    "collapsed": true
   },
   "outputs": [],
   "source": [
    "def survival_prob(XS_t,x):\n",
    "    print('MFP: {} cm'.format(round(1/XS_t,3)))\n",
    "    return 100*math.exp(-XS_t*x)"
   ]
  },
  {
   "cell_type": "markdown",
   "metadata": {},
   "source": [
    "We also note that the total macroscopic cross section of the concrete is the sum of the individual macroscopic cross sections of its components, $i$. Furthermore, each component's macroscopic cross section is the product of the component's number density and microscopic cross section.\n",
    "\n",
    "$$ \\Sigma_{t,\\text{concrete}} = \\sum_i n_i \\sigma_{t,i} $$"
   ]
  },
  {
   "cell_type": "code",
   "execution_count": 3,
   "metadata": {
    "collapsed": true
   },
   "outputs": [],
   "source": [
    "materials = ['Si28','Ca40','H2O']"
   ]
  },
  {
   "cell_type": "code",
   "execution_count": 4,
   "metadata": {
    "collapsed": true
   },
   "outputs": [],
   "source": [
    "def macroXS(materials,n,xst):\n",
    "    return sum([n[i]*xst[i] for i in materials])"
   ]
  },
  {
   "cell_type": "markdown",
   "metadata": {},
   "source": [
    "Cross sections are defined as follows (from ENDF/B-VII.1)"
   ]
  },
  {
   "cell_type": "code",
   "execution_count": 5,
   "metadata": {
    "collapsed": false
   },
   "outputs": [],
   "source": [
    "xst = {'Si28':   2.125e-24,     # cm^2\n",
    "       'Ca40':   3.432e-24,\n",
    "       'H1':     20.768e-24,\n",
    "       'O16':    3.852e-24,\n",
    "      }\n",
    "xst['H2O'] = 2*xst['H1'] + xst['O16']"
   ]
  },
  {
   "cell_type": "markdown",
   "metadata": {},
   "source": [
    "The number density of each material, $n_i$ can be found from the provided weight percents, $w_i$ (Concrete: 10 wt% H2O, 50 wt% calcium, and 40 wt% silicon), tabulated molar masses, $m_i$, and the density of concrete, $\\rho_c$:\n",
    "\n",
    "$$ n_i = \\frac{w_i N_A \\rho_c}{m_i}.$$"
   ]
  },
  {
   "cell_type": "code",
   "execution_count": 6,
   "metadata": {
    "collapsed": true
   },
   "outputs": [],
   "source": [
    "def n_i(w_i,rho_C,m_i):\n",
    "    N_A = 6.022e23\n",
    "    return w_i*N_A*rho_C/m_i"
   ]
  },
  {
   "cell_type": "code",
   "execution_count": 7,
   "metadata": {
    "collapsed": true
   },
   "outputs": [],
   "source": [
    "w = {'Si28': 0.4,      # w%\n",
    "     'Ca40': 0.5,\n",
    "     'H2O' : 0.1\n",
    "    }\n",
    "m = {'Si28': 27.977,   # g/mol\n",
    "     'Ca40': 39.963,\n",
    "     'H1'  : 1.008,\n",
    "     'O16' : 15.995\n",
    "    }\n",
    "m['H2O'] = 2*m['H1'] + m['O16']\n",
    "\n",
    "rho_C = 2.4            # g/cm^3\n",
    "\n",
    "n = {i: n_i(w[i],rho_C,m[i]) for i in materials}"
   ]
  },
  {
   "cell_type": "code",
   "execution_count": 8,
   "metadata": {
    "collapsed": false
   },
   "outputs": [
    {
     "name": "stdout",
     "output_type": "stream",
     "text": [
      "{'Si28': 2.0663831004039034e+22, 'Ca40': 1.8082726522032879e+22, 'H2O': 8.024429515296209e+21}\n"
     ]
    }
   ],
   "source": [
    "print(n)"
   ]
  },
  {
   "cell_type": "markdown",
   "metadata": {},
   "source": [
    "We can now use the cross sections and number densities to solve for $P(1\\text{ m})$. "
   ]
  },
  {
   "cell_type": "code",
   "execution_count": 9,
   "metadata": {
    "collapsed": false
   },
   "outputs": [
    {
     "name": "stdout",
     "output_type": "stream",
     "text": [
      "MFP: 2.127 cm\n",
      "The probability of a neutron making it through the 100 cm shield is 3.80360932432912e-19%\n"
     ]
    }
   ],
   "source": [
    "width = 100           # cm\n",
    "prob = survival_prob(macroXS(materials,n,xst),width)\n",
    "print('The probability of a neutron making it through the {} cm shield is {}%'.format(width,prob))"
   ]
  }
 ],
 "metadata": {
  "kernelspec": {
   "display_name": "Python 3",
   "language": "python",
   "name": "python3"
  },
  "language_info": {
   "codemirror_mode": {
    "name": "ipython",
    "version": 3
   },
   "file_extension": ".py",
   "mimetype": "text/x-python",
   "name": "python",
   "nbconvert_exporter": "python",
   "pygments_lexer": "ipython3",
   "version": "3.6.0"
  }
 },
 "nbformat": 4,
 "nbformat_minor": 2
}
