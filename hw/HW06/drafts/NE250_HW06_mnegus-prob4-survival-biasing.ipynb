{
 "cells": [
  {
   "cell_type": "markdown",
   "metadata": {},
   "source": [
    "# NE 250 – Homework 6\n",
    "## Problem 4\n",
    "###### 12/1/2017"
   ]
  },
  {
   "cell_type": "code",
   "execution_count": 1,
   "metadata": {
    "collapsed": true
   },
   "outputs": [],
   "source": [
    "import numpy as np\n",
    "import random"
   ]
  },
  {
   "cell_type": "markdown",
   "metadata": {},
   "source": [
    "We are considering an infinite, steady-state, monoenergetic, two-region Monte Carlo problem with the following characteristics: (note thate we have renamed region 1 and region 2 as region 0 and region 1 respectively; this allows for simpler calculations)\n",
    "* 1-D problem geometry\n",
    "* Region 0 has $\\Sigma_s = 0.5\\text{ cm}^{-1}$ and $\\Sigma_t = 1.0\\text{ cm}^{-1}$ (in both regions the only interactions are\n",
    "scattering or absorption).\n",
    "* Region 1 has $\\Sigma_s = 0.75\\text{ cm}^{-1}$ and $\\Sigma_t =0.9\\text{ cm}^{-1}$.\n",
    "* Region 0 has $w_{nom} = 1$ and Region 1 has $w_{nom} = 2$. $w_{max}$ and $w_{min}$ can be found as $(w_{nom} \\times 2.5)$ or $(w_{nom}\\,/\\,2.5)$, respectively.\n",
    "* All particles are born in Region 0 with weight 1 at a location that is 1 cm to the left of the interface between Regions 0 and 1. The source is isotropic.\n",
    "* Isotropic scattering."
   ]
  },
  {
   "cell_type": "markdown",
   "metadata": {},
   "source": [
    "#### Problem Statement \n",
    "\n",
    "_Write the algorithm for a Monte Carlo code to solve this specific problem. Include the PDFs required for sampling as well as algorithms for conducting sampling. Use a collision estimator to tally the flux. Include implicit capture, rouletting, and splitting._"
   ]
  },
  {
   "cell_type": "markdown",
   "metadata": {},
   "source": [
    "### Underlying parameters"
   ]
  },
  {
   "cell_type": "markdown",
   "metadata": {},
   "source": [
    "Using the above information, we can create a set of dictionaries to describe our physical situation. Each fundamental parameter gets a dictionary, and each dictionary has entries corresponding to each region."
   ]
  },
  {
   "cell_type": "code",
   "execution_count": 2,
   "metadata": {
    "collapsed": false
   },
   "outputs": [],
   "source": [
    "# Macroscopic Total Cross Sections\n",
    "Sigma_t = {0:1.0,1:0.9}\n",
    "\n",
    "# Macroscopic Scattering Cross Sections\n",
    "Sigma_s = {0:0.5,1:0.75}\n",
    "\n",
    "# Nominal Weights \n",
    "w_nom = {0:1,1:2}\n",
    "\n",
    "# Max/Min Weights\n",
    "w_ext = {region:(w_nom[region]*2.5,w_nom[region]/2.5) for region in w_nom.keys()}"
   ]
  },
  {
   "cell_type": "code",
   "execution_count": 3,
   "metadata": {
    "collapsed": false
   },
   "outputs": [
    {
     "data": {
      "text/plain": [
       "{0: (2.5, 0.4), 1: (5.0, 0.8)}"
      ]
     },
     "execution_count": 3,
     "metadata": {},
     "output_type": "execute_result"
    }
   ],
   "source": [
    "w_ext"
   ]
  },
  {
   "cell_type": "markdown",
   "metadata": {},
   "source": [
    "### Tracking the particle"
   ]
  },
  {
   "cell_type": "markdown",
   "metadata": {},
   "source": [
    "We can track a particle using a particle class, which can model the behavior of each particle as it proceeds through it's lifetime. This particle class will contain methods for each action that the particle will undergo\n",
    "* birth (the class' `_init__` method)\n",
    "* transport\n",
    "* boundary encounter\n",
    "* collision\n",
    "* scoring"
   ]
  },
  {
   "cell_type": "markdown",
   "metadata": {},
   "source": [
    "## Survival Biasing"
   ]
  },
  {
   "cell_type": "code",
   "execution_count": 4,
   "metadata": {
    "collapsed": false
   },
   "outputs": [],
   "source": [
    "class particle:\n",
    "    \"\"\"\n",
    "    A class to model a single Monte Carlo particle over it's lifetime\n",
    "    \"\"\"\n",
    "    def __init__(self,verbose=False):\n",
    "        \"\"\"The particle is born. Assign a position [cm], angle (cos θ), energy [MeV], and weight.\"\"\"\n",
    "        self.x = -1\n",
    "        self.mu = 2*random.random()-1\n",
    "        self.E = 1\n",
    "        self.w = 1\n",
    "        self.region = 0\n",
    "        self.score = np.zeros(2)\n",
    "        self.verbose = verbose\n",
    "        if verbose:\n",
    "            print('The particle was born at x = -1 cm (region 0), with weight 1.')\n",
    "            \n",
    "    def transport(self,sample=True):\n",
    "        \"\"\"Transport the particle through the problem geometry\"\"\"\n",
    "        # Sample to find the number of mean free paths that traveled by the particle material; adjust for 1 dimension\n",
    "        if sample:\n",
    "            xi = random.random()\n",
    "            self.mfp_x = -np.log(xi)*self.mu\n",
    "            if self.verbose: print('This particle will travel {} MFPs in the x-direction.'.format(round(self.mfp_x,3)))\n",
    "        # Determine the number of mean free paths to a boundary in the current material\n",
    "        boundary_mfp = -self.x*Sigma_t[self.region]\n",
    "        if self.verbose: print('The distance to the boundary is {} MFPs.'.format(round(boundary_mfp,3)))\n",
    "        # If the particle reaches a boundary before the collision, stop and reevaluate\n",
    "        if boundary_mfp == 0:  # (the particle was at the boundary, so must collide)\n",
    "            if self.verbose: print('(the particle is at the boundary)')\n",
    "            self.collision()\n",
    "        elif self.mfp_x > boundary_mfp:\n",
    "            self.boundary(boundary_mfp)\n",
    "        else:\n",
    "            self.collision()\n",
    "    \n",
    "    def boundary(self,boundary_mfp):\n",
    "        \"\"\"The particle reached a boundary: reevaluate the particle's tracking in the new material\"\"\"\n",
    "        if self.verbose: print('The particle travels to the boundary.')\n",
    "        self.x = 0\n",
    "        self.region = 1-self.region\n",
    "        self.mfp_x -= boundary_mfp\n",
    "        self.update_weight(collision=False)\n",
    "        self.transport(sample=False)\n",
    "        \n",
    "    def collision(self):\n",
    "        \"\"\"The particle collided: use survival biasing to continue following the particle\"\"\"\n",
    "        self.x += self.mfp_x\n",
    "        if self.verbose: print('The particle collides at x = {}'.format(round(self.x,3)))\n",
    "        self.score_particle()\n",
    "        self.update_weight(collision=True)\n",
    "        if self.w == 0: \n",
    "            if self.verbose: print('\\t\\t\\t\\t The particle is killed (w=0).')\n",
    "            return\n",
    "        self.mu = 2*random.random()-1\n",
    "        if self.verbose: print('The particle scatters, and is now traveling with mu = {}'.format(round(self.mu,3)))\n",
    "        self.transport(sample=True)  \n",
    "    \n",
    "    def update_weight(self,collision=False):\n",
    "        \"\"\"Update the particle's weight using survival biasing, splitting, and russian roulette\"\"\"\n",
    "        if collision: # adjust weight with survival biasing\n",
    "            # New weight:     w_{i+1} = w(1 - Σ_a / Σ_t)\n",
    "            self.w *= (Sigma_t[self.region]-Sigma_s[self.region])/Sigma_t[self.region]\n",
    "            if self.verbose: print('The particle is survival biased, now with weight {}'.format(round(self.w,3)))\n",
    "        # Splitting\n",
    "        if self.w > w_ext[self.region][0]:\n",
    "            SR = self.w/w_nom[self.region]\n",
    "            xi = random.random()\n",
    "            if xi >= SR - int(SR):\n",
    "                b = 0\n",
    "            else:\n",
    "                b = 1\n",
    "            n_new_particles = int(SR) + b\n",
    "            if self.verbose: print('Splitting the particle into {} new particles.'.format(n_new_particles))\n",
    "            global particles\n",
    "            for i in range(int(SR)):\n",
    "                particles.append(particle())\n",
    "                particles[-1].x = self.x\n",
    "                particles[-1.].w = self.w/n_new_particles\n",
    "        # Russian Roulette\n",
    "        if self.w < w_ext[self.region][1]:\n",
    "            if self.verbose: print('Rouletting the particles...')\n",
    "            xi = random.random()\n",
    "            RR = self.w/w_nom[self.region]\n",
    "            if xi >= RR :\n",
    "                self.w = 0\n",
    "                if self.verbose: print('\\t\\t\\t ... uh-oh...')\n",
    "            else:\n",
    "                self.w = w_nom[self.region]\n",
    "                if self.verbose: print('Phew. Particle survived, and now it has weight {}'.format(round(self.w,3)))\n",
    "        \n",
    "    def score_particle(self):\n",
    "        self.score[self.region] += self.w\n",
    "        if self.verbose: \n",
    "            print('Score! Particle with weight {} added to the tally.'.format(round(self.w,3)))\n",
    "            print('\\tCurrent score: \\t Region 0: {}   Region 1: {}'.format(self.score[0],self.score[1]))\n",
    "\n",
    "        "
   ]
  },
  {
   "cell_type": "code",
   "execution_count": 5,
   "metadata": {
    "collapsed": false
   },
   "outputs": [],
   "source": [
    "## Survival biasing, rouletting, and splitting MC run\n",
    "N = 20000\n",
    "tally = np.zeros(2)\n",
    "particles = [particle() for n in range(N)]\n",
    "for p in particles:\n",
    "    p.transport()\n",
    "    tally += p.score\n",
    "norm_collisions = tally/N"
   ]
  },
  {
   "cell_type": "code",
   "execution_count": 6,
   "metadata": {
    "collapsed": false
   },
   "outputs": [
    {
     "name": "stdout",
     "output_type": "stream",
     "text": [
      "Average collisions per particle, region 0: 1.728825 \t Average collisions per particle,, region 1: 0.1598\n",
      "Ratio:  10.8186795995\n"
     ]
    }
   ],
   "source": [
    "print('Average collisions per particle, region 0: {} \\t Average collisions per particle,, region 1: {}'.format(norm_collisions[0],norm_collisions[1]))\n",
    "print('Ratio: ',norm_collisions[0]/norm_collisions[1])"
   ]
  },
  {
   "cell_type": "markdown",
   "metadata": {},
   "source": [
    "Interestingly, it appears that in our specific problem splitting is never used. This fact could be deduced, however, by noting that splitting only occurs when $w_i > w_{max}$. For both regions, $w_{max} \\geq 2.5$. Upon birth in either region, a particle's weight will never be more than 2. Collisions will only trigger a reduction in weight, and rouletting produces particles also with a maximum weight of 2 (roulette products have weight $w_{nom}$)."
   ]
  },
  {
   "cell_type": "markdown",
   "metadata": {},
   "source": [
    "## The story of a Monte Carlo Particle"
   ]
  },
  {
   "cell_type": "markdown",
   "metadata": {},
   "source": [
    "Let's follow just 1 particle."
   ]
  },
  {
   "cell_type": "code",
   "execution_count": 7,
   "metadata": {
    "collapsed": false
   },
   "outputs": [
    {
     "name": "stdout",
     "output_type": "stream",
     "text": [
      "The particle was born at x = -1 cm (region 0), with weight 1.\n",
      "This particle will travel -1.199 MFPs in the x-direction.\n",
      "The distance to the boundary is 1.0 MFPs.\n",
      "The particle collides at x = -2.199\n",
      "Score! Particle with weight 1 added to the tally.\n",
      "\tCurrent score: \t Region 0: 1.0   Region 1: 0.0\n",
      "The particle is survival biased, now with weight 0.5\n",
      "The particle scatters, and is now traveling with mu = -0.208\n",
      "This particle will travel -0.388 MFPs in the x-direction.\n",
      "The distance to the boundary is 2.199 MFPs.\n",
      "The particle collides at x = -2.587\n",
      "Score! Particle with weight 0.5 added to the tally.\n",
      "\tCurrent score: \t Region 0: 1.5   Region 1: 0.0\n",
      "The particle is survival biased, now with weight 0.25\n",
      "Rouletting the particles...\n",
      "Phew. Particle survived, and now it has weight 1\n",
      "The particle scatters, and is now traveling with mu = -0.197\n",
      "This particle will travel -0.017 MFPs in the x-direction.\n",
      "The distance to the boundary is 2.587 MFPs.\n",
      "The particle collides at x = -2.604\n",
      "Score! Particle with weight 1 added to the tally.\n",
      "\tCurrent score: \t Region 0: 2.5   Region 1: 0.0\n",
      "The particle is survival biased, now with weight 0.5\n",
      "The particle scatters, and is now traveling with mu = 0.601\n",
      "This particle will travel 0.161 MFPs in the x-direction.\n",
      "The distance to the boundary is 2.604 MFPs.\n",
      "The particle collides at x = -2.443\n",
      "Score! Particle with weight 0.5 added to the tally.\n",
      "\tCurrent score: \t Region 0: 3.0   Region 1: 0.0\n",
      "The particle is survival biased, now with weight 0.25\n",
      "Rouletting the particles...\n",
      "Phew. Particle survived, and now it has weight 1\n",
      "The particle scatters, and is now traveling with mu = 0.073\n",
      "This particle will travel 0.094 MFPs in the x-direction.\n",
      "The distance to the boundary is 2.443 MFPs.\n",
      "The particle collides at x = -2.348\n",
      "Score! Particle with weight 1 added to the tally.\n",
      "\tCurrent score: \t Region 0: 4.0   Region 1: 0.0\n",
      "The particle is survival biased, now with weight 0.5\n",
      "The particle scatters, and is now traveling with mu = -0.655\n",
      "This particle will travel -1.468 MFPs in the x-direction.\n",
      "The distance to the boundary is 2.348 MFPs.\n",
      "The particle collides at x = -3.817\n",
      "Score! Particle with weight 0.5 added to the tally.\n",
      "\tCurrent score: \t Region 0: 4.5   Region 1: 0.0\n",
      "The particle is survival biased, now with weight 0.25\n",
      "Rouletting the particles...\n",
      "Phew. Particle survived, and now it has weight 1\n",
      "The particle scatters, and is now traveling with mu = 0.855\n",
      "This particle will travel 0.16 MFPs in the x-direction.\n",
      "The distance to the boundary is 3.817 MFPs.\n",
      "The particle collides at x = -3.656\n",
      "Score! Particle with weight 1 added to the tally.\n",
      "\tCurrent score: \t Region 0: 5.5   Region 1: 0.0\n",
      "The particle is survival biased, now with weight 0.5\n",
      "The particle scatters, and is now traveling with mu = 0.613\n",
      "This particle will travel 0.137 MFPs in the x-direction.\n",
      "The distance to the boundary is 3.656 MFPs.\n",
      "The particle collides at x = -3.52\n",
      "Score! Particle with weight 0.5 added to the tally.\n",
      "\tCurrent score: \t Region 0: 6.0   Region 1: 0.0\n",
      "The particle is survival biased, now with weight 0.25\n",
      "Rouletting the particles...\n",
      "Phew. Particle survived, and now it has weight 1\n",
      "The particle scatters, and is now traveling with mu = -0.38\n",
      "This particle will travel -0.178 MFPs in the x-direction.\n",
      "The distance to the boundary is 3.52 MFPs.\n",
      "The particle collides at x = -3.697\n",
      "Score! Particle with weight 1 added to the tally.\n",
      "\tCurrent score: \t Region 0: 7.0   Region 1: 0.0\n",
      "The particle is survival biased, now with weight 0.5\n",
      "The particle scatters, and is now traveling with mu = 0.464\n",
      "This particle will travel 0.073 MFPs in the x-direction.\n",
      "The distance to the boundary is 3.697 MFPs.\n",
      "The particle collides at x = -3.624\n",
      "Score! Particle with weight 0.5 added to the tally.\n",
      "\tCurrent score: \t Region 0: 7.5   Region 1: 0.0\n",
      "The particle is survival biased, now with weight 0.25\n",
      "Rouletting the particles...\n",
      "\t\t\t ... uh-oh...\n",
      "\t\t\t\t The particle is killed (w=0).\n"
     ]
    }
   ],
   "source": [
    "random.seed(4)\n",
    "N = 1\n",
    "tally = np.zeros(2)\n",
    "p = particle(verbose=True)\n",
    "p.transport()\n",
    "tally += p.score"
   ]
  },
  {
   "cell_type": "markdown",
   "metadata": {},
   "source": [
    "Random seed 4 gives a much more dynamic plot..."
   ]
  },
  {
   "cell_type": "code",
   "execution_count": 8,
   "metadata": {
    "collapsed": false
   },
   "outputs": [
    {
     "name": "stdout",
     "output_type": "stream",
     "text": [
      "The particle was born at x = -1 cm (region 0), with weight 1.\n",
      "This particle will travel -1.199 MFPs in the x-direction.\n",
      "The distance to the boundary is 1.0 MFPs.\n",
      "The particle collides at x = -2.199\n",
      "Score! Particle with weight 1 added to the tally.\n",
      "\tCurrent score: \t Region 0: 1.0   Region 1: 0.0\n",
      "The particle is survival biased, now with weight 0.5\n",
      "The particle scatters, and is now traveling with mu = -0.208\n",
      "This particle will travel -0.388 MFPs in the x-direction.\n",
      "The distance to the boundary is 2.199 MFPs.\n",
      "The particle collides at x = -2.587\n",
      "Score! Particle with weight 0.5 added to the tally.\n",
      "\tCurrent score: \t Region 0: 1.5   Region 1: 0.0\n",
      "The particle is survival biased, now with weight 0.25\n",
      "Rouletting the particles...\n",
      "Phew. Particle survived, and now it has weight 1\n",
      "The particle scatters, and is now traveling with mu = -0.197\n",
      "This particle will travel -0.017 MFPs in the x-direction.\n",
      "The distance to the boundary is 2.587 MFPs.\n",
      "The particle collides at x = -2.604\n",
      "Score! Particle with weight 1 added to the tally.\n",
      "\tCurrent score: \t Region 0: 2.5   Region 1: 0.0\n",
      "The particle is survival biased, now with weight 0.5\n",
      "The particle scatters, and is now traveling with mu = 0.601\n",
      "This particle will travel 0.161 MFPs in the x-direction.\n",
      "The distance to the boundary is 2.604 MFPs.\n",
      "The particle collides at x = -2.443\n",
      "Score! Particle with weight 0.5 added to the tally.\n",
      "\tCurrent score: \t Region 0: 3.0   Region 1: 0.0\n",
      "The particle is survival biased, now with weight 0.25\n",
      "Rouletting the particles...\n",
      "Phew. Particle survived, and now it has weight 1\n",
      "The particle scatters, and is now traveling with mu = 0.073\n",
      "This particle will travel 0.094 MFPs in the x-direction.\n",
      "The distance to the boundary is 2.443 MFPs.\n",
      "The particle collides at x = -2.348\n",
      "Score! Particle with weight 1 added to the tally.\n",
      "\tCurrent score: \t Region 0: 4.0   Region 1: 0.0\n",
      "The particle is survival biased, now with weight 0.5\n",
      "The particle scatters, and is now traveling with mu = -0.655\n",
      "This particle will travel -1.468 MFPs in the x-direction.\n",
      "The distance to the boundary is 2.348 MFPs.\n",
      "The particle collides at x = -3.817\n",
      "Score! Particle with weight 0.5 added to the tally.\n",
      "\tCurrent score: \t Region 0: 4.5   Region 1: 0.0\n",
      "The particle is survival biased, now with weight 0.25\n",
      "Rouletting the particles...\n",
      "Phew. Particle survived, and now it has weight 1\n",
      "The particle scatters, and is now traveling with mu = 0.855\n",
      "This particle will travel 0.16 MFPs in the x-direction.\n",
      "The distance to the boundary is 3.817 MFPs.\n",
      "The particle collides at x = -3.656\n",
      "Score! Particle with weight 1 added to the tally.\n",
      "\tCurrent score: \t Region 0: 5.5   Region 1: 0.0\n",
      "The particle is survival biased, now with weight 0.5\n",
      "The particle scatters, and is now traveling with mu = 0.613\n",
      "This particle will travel 0.137 MFPs in the x-direction.\n",
      "The distance to the boundary is 3.656 MFPs.\n",
      "The particle collides at x = -3.52\n",
      "Score! Particle with weight 0.5 added to the tally.\n",
      "\tCurrent score: \t Region 0: 6.0   Region 1: 0.0\n",
      "The particle is survival biased, now with weight 0.25\n",
      "Rouletting the particles...\n",
      "Phew. Particle survived, and now it has weight 1\n",
      "The particle scatters, and is now traveling with mu = -0.38\n",
      "This particle will travel -0.178 MFPs in the x-direction.\n",
      "The distance to the boundary is 3.52 MFPs.\n",
      "The particle collides at x = -3.697\n",
      "Score! Particle with weight 1 added to the tally.\n",
      "\tCurrent score: \t Region 0: 7.0   Region 1: 0.0\n",
      "The particle is survival biased, now with weight 0.5\n",
      "The particle scatters, and is now traveling with mu = 0.464\n",
      "This particle will travel 0.073 MFPs in the x-direction.\n",
      "The distance to the boundary is 3.697 MFPs.\n",
      "The particle collides at x = -3.624\n",
      "Score! Particle with weight 0.5 added to the tally.\n",
      "\tCurrent score: \t Region 0: 7.5   Region 1: 0.0\n",
      "The particle is survival biased, now with weight 0.25\n",
      "Rouletting the particles...\n",
      "\t\t\t ... uh-oh...\n",
      "\t\t\t\t The particle is killed (w=0).\n"
     ]
    }
   ],
   "source": [
    "random.seed(4)\n",
    "N = 1\n",
    "tally = np.zeros(2)\n",
    "p = particle(verbose=True)\n",
    "p.transport()\n",
    "tally += p.score"
   ]
  }
 ],
 "metadata": {
  "kernelspec": {
   "display_name": "Python 3",
   "language": "python",
   "name": "python3"
  },
  "language_info": {
   "codemirror_mode": {
    "name": "ipython",
    "version": 3
   },
   "file_extension": ".py",
   "mimetype": "text/x-python",
   "name": "python",
   "nbconvert_exporter": "python",
   "pygments_lexer": "ipython3",
   "version": "3.6.0"
  }
 },
 "nbformat": 4,
 "nbformat_minor": 2
}
