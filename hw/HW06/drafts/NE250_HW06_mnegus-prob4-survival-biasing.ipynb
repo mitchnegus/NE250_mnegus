{
 "cells": [
  {
   "cell_type": "markdown",
   "metadata": {},
   "source": [
    "# NE 250 – Homework 6\n",
    "## Problem 4\n",
    "###### 12/1/2017"
   ]
  },
  {
   "cell_type": "code",
   "execution_count": 1,
   "metadata": {
    "collapsed": true
   },
   "outputs": [],
   "source": [
    "import numpy as np"
   ]
  },
  {
   "cell_type": "markdown",
   "metadata": {},
   "source": [
    "We are considering an infinite, steady-state, monoenergetic, two-region Monte Carlo problem with the following characteristics: (note thate we have renamed region 1 and region 2 as region 0 and region 1 respectively; this allows for simpler calculations)\n",
    "* 1-D problem geometry\n",
    "* Region 0 has $\\Sigma_s = 0.5\\text{ cm}^{-1}$ and $\\Sigma_t = 1.0\\text{ cm}^{-1}$ (in both regions the only interactions are\n",
    "scattering or absorption).\n",
    "* Region 1 has $\\Sigma_s = 0.75\\text{ cm}^{-1}$ and $\\Sigma_t =0.9\\text{ cm}^{-1}$.\n",
    "* Region 0 has $w_{\\textit{nom}} = 1$ and Region 1 has $w_{\\textit{nom}} = 2$. $w_{\\textit{max}}$ and $w_{\\textit{min}}$ can be found as $(w_{\\textit{nom}} \\times 2.5)$ or $(w_{\\textit{nom}}\\,/\\,2.5)$, respectively.\n",
    "* All particles are born in Region 0 with weight 1 at a location that is 1 cm to the left of the interface between Regions 0 and 1. The source is isotropic.\n",
    "* Isotropic scattering."
   ]
  },
  {
   "cell_type": "markdown",
   "metadata": {},
   "source": [
    "#### Problem Statement \n",
    "\n",
    "_Write the algorithm for a Monte Carlo code to solve this specific problem. Include the PDFs required for sampling as well as algorithms for conducting sampling. Use a collision estimator to tally the flux. Include implicit capture, rouletting, and splitting._"
   ]
  },
  {
   "cell_type": "markdown",
   "metadata": {},
   "source": [
    "### Underlying parameters"
   ]
  },
  {
   "cell_type": "markdown",
   "metadata": {},
   "source": [
    "Using the above information, we can create a set of dictionaries to describe our physical situation. Each fundamental parameter gets a dictionary, and each dictionary has entries corresponding to each region."
   ]
  },
  {
   "cell_type": "code",
   "execution_count": 2,
   "metadata": {
    "collapsed": false
   },
   "outputs": [],
   "source": [
    "# Macroscopic Total Cross Sections\n",
    "Sigma_t = {0:1.0,1:0.9}\n",
    "\n",
    "# Macroscopic Scattering Cross Sections\n",
    "Sigma_s = {0:0.5,1:0.75}\n",
    "\n",
    "# Nominal Weights \n",
    "w_nom = {0:1,1:2}\n",
    "\n",
    "# Max/Min Weights\n",
    "w_ext = {region:(w_nom[region]*2.5,w_nom[region]/2.5) for region in w_nom.keys()}"
   ]
  },
  {
   "cell_type": "code",
   "execution_count": 3,
   "metadata": {
    "collapsed": false
   },
   "outputs": [
    {
     "data": {
      "text/plain": [
       "{0: (2.5, 0.4), 1: (5.0, 0.8)}"
      ]
     },
     "execution_count": 3,
     "metadata": {},
     "output_type": "execute_result"
    }
   ],
   "source": [
    "w_ext"
   ]
  },
  {
   "cell_type": "markdown",
   "metadata": {},
   "source": [
    "### Tracking the particle"
   ]
  },
  {
   "cell_type": "markdown",
   "metadata": {},
   "source": [
    "We can track a particle using a particle class, which can model the behavior of each particle as it proceeds through it's lifetime. This particle class will contain methods for each action that the particle will undergo\n",
    "* birth (the class' `_init__` method)\n",
    "* transport\n",
    "* boundary encounter\n",
    "* collision\n",
    "* scoring"
   ]
  },
  {
   "cell_type": "code",
   "execution_count": 4,
   "metadata": {
    "collapsed": false
   },
   "outputs": [],
   "source": [
    "class particle:\n",
    "    \"\"\"\n",
    "    A class to model a single Monte Carlo particle over it's lifetime\n",
    "    \"\"\"\n",
    "    def __init__(self):\n",
    "        \"\"\"The particle is born. Assign a position [cm], angle (cos θ), energy [MeV], and weight.\"\"\"\n",
    "        self.x = -1\n",
    "        self.mu = 2*np.random.random()-1\n",
    "        self.E = 1\n",
    "        self.w = 1\n",
    "        self.region = 0\n",
    "        self.score = np.zeros(2)\n",
    "    \n",
    "    def transport(self,sample=True):\n",
    "        \"\"\"Transport the particle through the problem geometry\"\"\"\n",
    "        # Sample to find the number of mean free paths that traveled by the particle material; adjust for 1 dimension\n",
    "        if sample:\n",
    "            xi = np.random.random()\n",
    "            self.mfp_x = -np.log(xi)*self.mu\n",
    "        # Determine the number of mean free paths to a boundary in the current material\n",
    "        boundary_mfp = -self.x*Sigma_t[self.region]\n",
    "        # If the particle reaches a boundary before the collision, stop and reevaluate\n",
    "        if boundary_mfp == 0:  # (the particle was at the boundary, so must collide)\n",
    "            self.collision()\n",
    "        elif self.mfp_x > boundary_mfp:\n",
    "            self.boundary(boundary_mfp)\n",
    "        else:\n",
    "            self.collision()\n",
    "    \n",
    "    def boundary(self,boundary_mfp):\n",
    "        \"\"\"The particle reached a boundary: reevaluate the particle's tracking in the new material\"\"\"\n",
    "        self.x = 0\n",
    "        self.region = 1-self.region\n",
    "        self.mfp_x -= boundary_mfp\n",
    "        self.transport(sample=False)\n",
    "        \n",
    "    def collision(self):\n",
    "        \"\"\"The particle collided: score and determine the collision type\"\"\"\n",
    "        self.score_particle()\n",
    "        xi = np.random.random()\n",
    "        if xi*Sigma_t[self.region] > Sigma_s[self.region]: # particle scattered\n",
    "            self.x += self.mfp_x\n",
    "            self.mu = 2*np.random.random()-1\n",
    "            self.transport(sample=True)            \n",
    "\n",
    "    def score_particle(self):\n",
    "        self.score[self.region] += self.w\n",
    "        "
   ]
  },
  {
   "cell_type": "code",
   "execution_count": 6,
   "metadata": {
    "collapsed": false
   },
   "outputs": [
    {
     "name": "stdout",
     "output_type": "stream",
     "text": [
      "Average collisions per particle, region 0: 1.70995 \t Average collisions per particle,, region 1: 0.16335\n",
      "Ratio:  10.468013468\n"
     ]
    }
   ],
   "source": [
    "print('Average collisions per particle, region 0: {} \\t Average collisions per particle,, region 1: {}'.format(norm_collisions[0],norm_collisions[1]))\n",
    "print('Ratio: ',norm_collisions[0]/norm_collisions[1])"
   ]
  },
  {
   "cell_type": "markdown",
   "metadata": {},
   "source": [
    "## Survival Biasing"
   ]
  },
  {
   "cell_type": "code",
   "execution_count": 43,
   "metadata": {
    "collapsed": false
   },
   "outputs": [],
   "source": [
    "class particle:\n",
    "    \"\"\"\n",
    "    A class to model a single Monte Carlo particle over it's lifetime\n",
    "    \"\"\"\n",
    "    def __init__(self):\n",
    "        \"\"\"The particle is born. Assign a position [cm], angle (cos θ), energy [MeV], and weight.\"\"\"\n",
    "        self.x = -1\n",
    "        self.mu = 2*np.random.random()-1\n",
    "        self.E = 1\n",
    "        self.w = 1\n",
    "        self.region = 0\n",
    "        self.score = np.zeros(2)\n",
    "    \n",
    "    def transport(self,sample=True):\n",
    "        \"\"\"Transport the particle through the problem geometry\"\"\"\n",
    "        # Sample to find the number of mean free paths that traveled by the particle material; adjust for 1 dimension\n",
    "        if sample:\n",
    "            xi = np.random.random()\n",
    "            self.mfp_x = -np.log(xi)*self.mu\n",
    "        # Determine the number of mean free paths to a boundary in the current material\n",
    "        boundary_mfp = -self.x*Sigma_t[self.region]\n",
    "        # If the particle reaches a boundary before the collision, stop and reevaluate\n",
    "        if boundary_mfp == 0:  # (the particle was at the boundary, so must collide)\n",
    "            self.collision()\n",
    "        elif self.mfp_x > boundary_mfp:\n",
    "            self.boundary(boundary_mfp)\n",
    "        else:\n",
    "            self.collision()\n",
    "    \n",
    "    def boundary(self,boundary_mfp):\n",
    "        \"\"\"The particle reached a boundary: reevaluate the particle's tracking in the new material\"\"\"\n",
    "        self.x = 0\n",
    "        self.region = 1-self.region\n",
    "        self.mfp_x -= boundary_mfp\n",
    "        self.transport(sample=False)\n",
    "        \n",
    "    def collision(self):\n",
    "        \"\"\"The particle collided: use survival biasing to continue following the particle\"\"\"\n",
    "        self.score_particle(self.w)\n",
    "        # New weight:     w_{i+1} = w(1 - Σ_a / Σ_t)\n",
    "        self.w *= (Sigma_t[self.region]-Sigma_s[self.region])/Sigma_t[self.region]\n",
    "        if self.w < 0.000001: \n",
    "            return\n",
    "        self.x += self.mfp_x\n",
    "        self.mu = 2*np.random.random()-1\n",
    "        self.transport(sample=True)  \n",
    "        \n",
    "    def score_particle(self,tally_weight):\n",
    "        self.score[self.region] += tally_weight\n",
    "\n",
    "        "
   ]
  },
  {
   "cell_type": "code",
   "execution_count": 44,
   "metadata": {
    "collapsed": false
   },
   "outputs": [],
   "source": [
    "## Survival biasing MC run\n",
    "N = 20000\n",
    "tally = np.zeros(2)\n",
    "for i in range(N):\n",
    "    n = particle()\n",
    "    n.transport()\n",
    "    tally += n.score\n",
    "norm_collisions = tally/N"
   ]
  },
  {
   "cell_type": "code",
   "execution_count": 45,
   "metadata": {
    "collapsed": false
   },
   "outputs": [
    {
     "name": "stdout",
     "output_type": "stream",
     "text": [
      "Average collisions per particle, region 0: 1.7315370997871906 \t Average collisions per particle,, region 1: 0.16107694477780307\n",
      "Ratio:  10.7497513203\n"
     ]
    }
   ],
   "source": [
    "print('Average collisions per particle, region 0: {} \\t Average collisions per particle,, region 1: {}'.format(norm_collisions[0],norm_collisions[1]))\n",
    "print('Ratio: ',norm_collisions[0]/norm_collisions[1])"
   ]
  },
  {
   "cell_type": "markdown",
   "metadata": {},
   "source": [
    "An error most likely exists in the code since the relative fluxes ratios do not match between the analog and survival biasing runs."
   ]
  }
 ],
 "metadata": {
  "kernelspec": {
   "display_name": "Python 3",
   "language": "python",
   "name": "python3"
  },
  "language_info": {
   "codemirror_mode": {
    "name": "ipython",
    "version": 3
   },
   "file_extension": ".py",
   "mimetype": "text/x-python",
   "name": "python",
   "nbconvert_exporter": "python",
   "pygments_lexer": "ipython3",
   "version": "3.6.0"
  }
 },
 "nbformat": 4,
 "nbformat_minor": 2
}
