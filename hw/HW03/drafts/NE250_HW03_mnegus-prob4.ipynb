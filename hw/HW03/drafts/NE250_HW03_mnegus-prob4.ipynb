{
 "cells": [
  {
   "cell_type": "markdown",
   "metadata": {},
   "source": [
    "# NE 250 – Homework 4\n",
    "## Problem 4\n",
    "###### 10/20/2017"
   ]
  },
  {
   "cell_type": "code",
   "execution_count": 106,
   "metadata": {
    "collapsed": false
   },
   "outputs": [],
   "source": [
    "import numpy as np\n",
    "old_settings = np.seterr(divide='raise')"
   ]
  },
  {
   "cell_type": "markdown",
   "metadata": {},
   "source": [
    "We are given the matrix:\n",
    "\n",
    "$$\\begin{pmatrix}\n",
    "1 \t&\t1\t&\t-1\t&\t3\t\\\\\n",
    "1\t&\t2\t&\t-4\t&\t-2\t\\\\\n",
    "2\t&\t1\t&\t1\t&\t5\t\\\\\n",
    "-1\t&\t0\t&\t-2\t&\t-4\t\\end{pmatrix}$$"
   ]
  },
  {
   "cell_type": "markdown",
   "metadata": {},
   "source": [
    "The inverse of a square matrix, $\\textbf{A}$ is equal to the adjoint of the matrix, $\\textbf{A}^{-1}$ divided by the determinant of $A$. \n",
    "\n",
    "$$ \\textbf{A}^{-1} = \\frac{\\textbf{A}^{\\dagger}}{\\det{\\textbf{A}}} $$"
   ]
  },
  {
   "cell_type": "code",
   "execution_count": 114,
   "metadata": {
    "collapsed": false
   },
   "outputs": [],
   "source": [
    "def invert(matrix):\n",
    "    adjoint_matrix = adjoint(matrix)\n",
    "    det_matrix = determinant(matrix)\n",
    "    try:\n",
    "        inverse_matrix = adjoint_matrix/det_matrix\n",
    "        return inverse_matrix\n",
    "    except FloatingPointError:\n",
    "        return 'The matrix has a determinant of zero; it is not invertible.'"
   ]
  },
  {
   "cell_type": "markdown",
   "metadata": {},
   "source": [
    "The adjoint of a square matrix, $\\textbf{A}^{\\dagger}$, is the transpose of the cofactor matrix, $\\textbf{C}_{\\textbf{A}}$.\n",
    "\n",
    "$$ \\textbf{A}^{\\dagger} = \\textbf{C}_{\\textbf{A}}^T $$"
   ]
  },
  {
   "cell_type": "code",
   "execution_count": 115,
   "metadata": {
    "collapsed": false
   },
   "outputs": [],
   "source": [
    "def adjoint(matrix):    \n",
    "    cofactor_matrix = cofactor(matrix)\n",
    "    adjoint_matrix = transpose(cofactor_matrix)\n",
    "    return adjoint_matrix  \n",
    "\n",
    "def transpose(matrix):\n",
    "    transpose_matrix = np.empty_like(matrix)\n",
    "    for i in range(len(matrix)):\n",
    "        for j in range(len(matrix[0])):\n",
    "            transpose_matrix[j,i] = matrix[i,j]\n",
    "    return transpose_matrix"
   ]
  },
  {
   "cell_type": "markdown",
   "metadata": {},
   "source": [
    "The cofactor of a square matrix, $\\textbf{C}_{\\textbf{A}}$ is the signed matrix of minors, $\\textbf{M}_{\\textbf{A}}$.\n",
    "\n",
    "$$ \\textbf{C}_{\\textbf{A},ij} = (-1)^{i+j} \\ \\textbf{M}_{\\textbf{A}} $$"
   ]
  },
  {
   "cell_type": "code",
   "execution_count": 116,
   "metadata": {
    "collapsed": false
   },
   "outputs": [],
   "source": [
    "def cofactor(matrix):\n",
    "    minors_matrix = minors(matrix)\n",
    "    cofactor_matrix = np.copy(minors_matrix)\n",
    "    for i in range(len(cofactor_matrix)):\n",
    "        for j in range(len(cofactor_matrix[0])):\n",
    "                cofactor_matrix[i,j] *= (-1)**(i+j)\n",
    "    return cofactor_matrix"
   ]
  },
  {
   "cell_type": "markdown",
   "metadata": {},
   "source": [
    "The matrix of minors of a square matrix, $\\textbf{M}_{\\textbf{A}}$ is quite literally a matrix of the minors of $\\textbf{A}$."
   ]
  },
  {
   "cell_type": "code",
   "execution_count": 117,
   "metadata": {
    "collapsed": true
   },
   "outputs": [],
   "source": [
    "def minors(matrix):\n",
    "    minors_matrix = np.empty_like(matrix)\n",
    "    for i in range(len(minors_matrix)):\n",
    "        for j in range(len(minors_matrix[0])):\n",
    "            minors_matrix[i,j] = minor(matrix,i,j)\n",
    "    return minors_matrix"
   ]
  },
  {
   "cell_type": "markdown",
   "metadata": {},
   "source": [
    "The minor of matrix element $\\textbf{A}_{ij}$ is the determinant of submatrix formed with the rows and columns other than $i$ and $j$."
   ]
  },
  {
   "cell_type": "code",
   "execution_count": 118,
   "metadata": {
    "collapsed": true
   },
   "outputs": [],
   "source": [
    "def minor(matrix,i,j):\n",
    "    submatrix = np.copy(matrix)\n",
    "    submatrix = np.delete(submatrix,i,axis=0)\n",
    "    submatrix = np.delete(submatrix,j,axis=1)\n",
    "    minor_ij = determinant(submatrix)\n",
    "    return minor_ij"
   ]
  },
  {
   "cell_type": "markdown",
   "metadata": {},
   "source": [
    "Finally, the determinant of a matrix is either, $ad-bc$ for a $2 \\times 2$ matrix, or the sum of signed minors in a row, $i$ of square matrix of order $> 2$ mutiplied by the values of the minor's respective $j$."
   ]
  },
  {
   "cell_type": "code",
   "execution_count": 119,
   "metadata": {
    "collapsed": false
   },
   "outputs": [],
   "source": [
    "def determinant(matrix):\n",
    "    assert len(matrix) == len(matrix[0])\n",
    "    if len(matrix) == 2:\n",
    "        return matrix[0,0]*matrix[1,1]-matrix[0,1]*matrix[1,0]\n",
    "    else:\n",
    "        signed_minors = []\n",
    "        for j in range(len(matrix[0])):\n",
    "            if (j+2)%2 == 1:\n",
    "                sign = -1\n",
    "            else: sign = 1\n",
    "            signed_minors.append(matrix[0,j]*sign*minor(matrix,0,j))\n",
    "        return sum(signed_minors)"
   ]
  },
  {
   "cell_type": "markdown",
   "metadata": {},
   "source": [
    "We can use this all together to find the inverse of $\\textbf{A}$."
   ]
  },
  {
   "cell_type": "code",
   "execution_count": 120,
   "metadata": {
    "collapsed": false
   },
   "outputs": [
    {
     "name": "stdout",
     "output_type": "stream",
     "text": [
      "The matrix has a determinant of zero; it is not invertible.\n"
     ]
    }
   ],
   "source": [
    "print(invert(A))"
   ]
  }
 ],
 "metadata": {
  "kernelspec": {
   "display_name": "Python 3",
   "language": "python",
   "name": "python3"
  },
  "language_info": {
   "codemirror_mode": {
    "name": "ipython",
    "version": 3
   },
   "file_extension": ".py",
   "mimetype": "text/x-python",
   "name": "python",
   "nbconvert_exporter": "python",
   "pygments_lexer": "ipython3",
   "version": "3.6.0"
  }
 },
 "nbformat": 4,
 "nbformat_minor": 2
}
