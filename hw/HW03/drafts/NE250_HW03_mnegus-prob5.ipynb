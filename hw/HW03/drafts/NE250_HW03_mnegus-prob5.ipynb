{
 "cells": [
  {
   "cell_type": "markdown",
   "metadata": {},
   "source": [
    "# NE 250 – Homework 3\n",
    "## Problem 5\n",
    "###### 10/20/2017"
   ]
  },
  {
   "cell_type": "code",
   "execution_count": 1,
   "metadata": {
    "collapsed": true
   },
   "outputs": [],
   "source": [
    "import numpy as np"
   ]
  },
  {
   "cell_type": "markdown",
   "metadata": {},
   "source": [
    "The inverse, $\\textbf{A}^{-1}$ of a square matrix, $\\textbf{A}$,  is equal to the adjugate of the matrix, $\\textbf{A}^{\\dagger}$ divided by the determinant of $\\textbf{A}$.\n",
    "\n",
    "$$ \\textbf{A}^{-1} = \\frac{\\textbf{A}^{\\dagger}}{\\det{\\textbf{A}}} $$\n",
    "\n",
    "We can manipulate this expression to find\n",
    "\n",
    "$$ (\\det{\\textbf{A}})\\mathbb{1} = \\textbf{A}^{\\dagger}\\textbf{A} $$\n",
    "\n",
    "Since we are looking for a self-adjugate matrix, $\\textbf{A}^{\\dagger} = \\textbf{A}$, and \n",
    "\n",
    "$$ (\\det{\\textbf{A}})\\mathbb{1} = \\textbf{A}^2 .$$\n",
    "\n",
    "Then, taking the square root of both sides,\n",
    "\n",
    "$$ \\left(\\sqrt{\\det{\\textbf{A}}}\\right)\\mathbb{1} = \\textbf{A} .$$\n",
    "\n",
    "$$ \\textbf{A} = \\begin{bmatrix} a & b & c \\\\\n",
    "                                d & e & f \\\\\n",
    "                                g & h & i \\end{bmatrix} =\n",
    "                \\begin{bmatrix} \\sqrt{\\det{\\textbf{A}}} & 0 & 0 \\\\\n",
    "                                0 & \\sqrt{\\det{\\textbf{A}}} & 0 \\\\\n",
    "                                0 & 0 & \\sqrt{\\det{\\textbf{A}}} \\end{bmatrix}. $$\n",
    "                \n",
    "$$ a = e = i = \\sqrt{\\det{\\textbf{A}}} $$\n",
    "$$ \\textbf{A} = \\begin{bmatrix} a & 0 & 0 \\\\\n",
    "                                0 & a & 0 \\\\\n",
    "                                0 & 0 & a \\end{bmatrix} = $$\n",
    "and\n",
    "\n",
    "$$ \\det{\\textbf{A}} = a \\begin{vmatrix} a & 0 \\\\ 0 & a \\end{vmatrix} $$\n",
    "$$ \\det{\\textbf{A}} = a (a^2) $$\n",
    "$$ \\det{\\textbf{A}} = a^3 .$$\n",
    "\n",
    "We know that $a = \\sqrt{\\det{\\textbf{A}}}$, so\n",
    "$$ a = \\sqrt{a^3} $$\n",
    "$$ a = a^{\\frac{3}{2}} $$\n",
    "$$ a = 1 $$\n",
    "$$\\boxed{ \\textbf{A} = \\mathbb{1} }$$"
   ]
  },
  {
   "cell_type": "markdown",
   "metadata": {},
   "source": [
    "We can test this using the functions defined in problem 4."
   ]
  },
  {
   "cell_type": "code",
   "execution_count": 2,
   "metadata": {
    "collapsed": true
   },
   "outputs": [],
   "source": [
    "def adjugate(matrix):    \n",
    "    cofactor_matrix = cofactor(matrix)\n",
    "    adjugate_matrix = transpose(cofactor_matrix)\n",
    "    return adjugate_matrix  \n",
    "\n",
    "def cofactor(matrix):\n",
    "    minors_matrix = minors(matrix)\n",
    "    cofactor_matrix = np.copy(minors_matrix)\n",
    "    for i in range(len(cofactor_matrix)):\n",
    "        for j in range(len(cofactor_matrix[0])):\n",
    "                cofactor_matrix[i,j] *= (-1)**(i+j)\n",
    "    return cofactor_matrix\n",
    "\n",
    "def transpose(matrix):\n",
    "    transpose_matrix = np.empty_like(matrix)\n",
    "    for i in range(len(matrix)):\n",
    "        for j in range(len(matrix[0])):\n",
    "            transpose_matrix[j,i] = matrix[i,j]\n",
    "    return transpose_matrix\n",
    "\n",
    "def minors(matrix):\n",
    "    minors_matrix = np.empty_like(matrix)\n",
    "    for i in range(len(minors_matrix)):\n",
    "        for j in range(len(minors_matrix[0])):\n",
    "            minors_matrix[i,j] = minor(matrix,i,j)\n",
    "    return minors_matrix\n",
    "\n",
    "def minor(matrix,i,j):\n",
    "    submatrix = np.copy(matrix)\n",
    "    submatrix = np.delete(submatrix,i,axis=0)\n",
    "    submatrix = np.delete(submatrix,j,axis=1)\n",
    "    minor_ij = determinant(submatrix)\n",
    "    return minor_ij\n",
    "\n",
    "def determinant(matrix):\n",
    "    assert len(matrix) == len(matrix[0])\n",
    "    if len(matrix) == 2:\n",
    "        return matrix[0,0]*matrix[1,1]-matrix[0,1]*matrix[1,0]\n",
    "    else:\n",
    "        signed_minors = []\n",
    "        for j in range(len(matrix[0])):\n",
    "            if (j+2)%2 == 1:\n",
    "                sign = -1\n",
    "            else: sign = 1\n",
    "            signed_minors.append(matrix[0,j]*sign*minor(matrix,0,j))\n",
    "        return sum(signed_minors)"
   ]
  },
  {
   "cell_type": "code",
   "execution_count": 3,
   "metadata": {
    "collapsed": false
   },
   "outputs": [
    {
     "name": "stdout",
     "output_type": "stream",
     "text": [
      "A = \n",
      " [[ 1.  0.  0.]\n",
      " [ 0.  1.  0.]\n",
      " [ 0.  0.  1.]]\n",
      "Adjugate of A = \n",
      " [[ 1. -0.  0.]\n",
      " [-0.  1. -0.]\n",
      " [ 0. -0.  1.]]\n"
     ]
    }
   ],
   "source": [
    "A = np.identity(3)\n",
    "print('A = \\n',A)\n",
    "print('Adjugate of A = \\n',adjugate(A))"
   ]
  }
 ],
 "metadata": {
  "kernelspec": {
   "display_name": "Python 3",
   "language": "python",
   "name": "python3"
  },
  "language_info": {
   "codemirror_mode": {
    "name": "ipython",
    "version": 3
   },
   "file_extension": ".py",
   "mimetype": "text/x-python",
   "name": "python",
   "nbconvert_exporter": "python",
   "pygments_lexer": "ipython3",
   "version": "3.6.0"
  }
 },
 "nbformat": 4,
 "nbformat_minor": 2
}
