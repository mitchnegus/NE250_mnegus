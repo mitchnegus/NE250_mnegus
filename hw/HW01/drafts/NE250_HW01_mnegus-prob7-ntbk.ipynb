{
 "cells": [
  {
   "cell_type": "markdown",
   "metadata": {},
   "source": [
    "# NE 250 – Homework 1\n",
    "## Problem 7\n",
    "###### 9/22/2017"
   ]
  },
  {
   "cell_type": "code",
   "execution_count": 1,
   "metadata": {
    "collapsed": true
   },
   "outputs": [],
   "source": [
    "# Overhead\n",
    "import numpy as np\n",
    "from matplotlib import pyplot as plt"
   ]
  },
  {
   "cell_type": "markdown",
   "metadata": {},
   "source": [
    "## Problem 7"
   ]
  },
  {
   "cell_type": "markdown",
   "metadata": {},
   "source": [
    "The reproduction factor $\\eta$ for reactors is defined as the ratio of neutrons produced to neutrons absorbed,\n",
    "\n",
    "$$ \\eta = \\frac{\\nu \\Sigma_f}{\\Sigma_a} $$\n",
    "\n",
    "For a material with several isotopes, the total macroscopic cross section for a reaction is equal to the sum of the macroscopic cross sections of each component\n",
    "\n",
    "$$ \\Sigma_x = \\sum_i \\Sigma_{x,i} $$\n",
    "\n",
    "For a given isotope, the macroscopic cross section, $\\Sigma_{x,i}$ can be expressed as the product of the number density and microscopic cross section of the isotope (at the specified energy). Since in this problem we only consider themrmal energies, we will suppress the energy dependence.\n",
    "\n",
    "$$ \\Sigma_{x,i} = n_i \\sigma_i $$\n",
    "\n",
    "Altogether\n",
    "$$ \\eta = \\frac{\\nu \\sum_i n_i \\sigma_{f,i}}{\\sum_i n_i \\sigma_{a,i}} $$\n",
    "\n",
    "Considering that uranium has two major isotopic components,$^{235}\\text{U}$ and $^{238}\\text{U}$, we can simplify this further\n",
    "\n",
    "$$ \\eta = \\frac{\\nu (n_{\\text{U5}} \\sigma_{f,\\text{U5}} + n_{\\text{U8}} \\sigma_{f,\\text{U8}})}{ n_{\\text{U5}} \\sigma_{a,\\text{U5}} + n_{\\text{U8}} \\sigma_{a,\\text{U8}}} $$"
   ]
  },
  {
   "cell_type": "code",
   "execution_count": 2,
   "metadata": {
    "collapsed": false
   },
   "outputs": [],
   "source": [
    "# Microscopic cross sections at 0.025 eV [b] (from ENDFB-VII.1, KAERI)\n",
    "xs_f = {'U235': 585.086,\n",
    "        'U238': 1.67946E-05\n",
    "       }\n",
    "xs_g = {'U235': 98.6864,\n",
    "        'U238': 2.68261\n",
    "       }\n",
    "xs_a = {isotope: xs_f[isotope]+xs_g[isotope] for isotope in xs_f}"
   ]
  },
  {
   "cell_type": "markdown",
   "metadata": {},
   "source": [
    "We will use the value of $\\nu = 2.432$ when the neutron energy is less than 1 eV provided in the class notes."
   ]
  },
  {
   "cell_type": "code",
   "execution_count": 3,
   "metadata": {
    "collapsed": true
   },
   "outputs": [],
   "source": [
    "nu = 2.432"
   ]
  },
  {
   "cell_type": "markdown",
   "metadata": {},
   "source": [
    "Next, we plot $\\eta$ for each percent enrichment (by atom percent) from 0-100%. Note that we can normalize our equation for $\\eta$ by an arbitrary total number of atoms in the sample so that we can give $n_i$ as a fractional number density rather than a true number density. In this case, we can write our equation for $\\eta$ as\n",
    "\n",
    "$$\\eta = \\frac{\\nu (n_{\\text{U5}} \\sigma_{f,\\text{U5}} + (1-n_{\\text{U5}}) \\sigma_{f,\\text{U8}})}{ n_{\\text{U5}} \\sigma_{a,\\text{U5}} + (1-n_{\\text{U5}}) \\sigma_{a,\\text{U8}}} $$"
   ]
  },
  {
   "cell_type": "code",
   "execution_count": 4,
   "metadata": {
    "collapsed": false
   },
   "outputs": [],
   "source": [
    "def repro_fac(nu,n,xs_f,xs_a):\n",
    "    numerator = nu*(n*xs_f['U235']+(1-n)*xs_f['U238'])\n",
    "    denominator = (n*xs_a['U235']+(1-n)*xs_a['U238'])\n",
    "    return numerator/denominator"
   ]
  },
  {
   "cell_type": "code",
   "execution_count": 5,
   "metadata": {
    "collapsed": false
   },
   "outputs": [],
   "source": [
    "percent_u5 = np.arange(101)/100\n",
    "eta = [repro_fac(nu,n,xs_f,xs_a) for n in percent_u5]"
   ]
  },
  {
   "cell_type": "code",
   "execution_count": 6,
   "metadata": {
    "collapsed": false
   },
   "outputs": [
    {
     "data": {
      "image/png": "[encoded data removed]",
      "text/plain": [
       "<matplotlib.figure.Figure at 0x10a770e80>"
      ]
     },
     "metadata": {},
     "output_type": "display_data"
    }
   ],
   "source": [
    "fig = plt.figure(figsize=(16,10))\n",
    "plt.plot(percent_u5*100,eta)\n",
    "plt.title('Reproduction Factor per $^{235}$U enrichment',fontsize=16)\n",
    "plt.xlabel('Enrichment [%]',fontsize=14)\n",
    "plt.ylabel('$\\eta$',rotation=0,fontsize=16)\n",
    "plt.savefig('fig/eta_per_enrich.jpg')\n",
    "plt.show()"
   ]
  },
  {
   "cell_type": "markdown",
   "metadata": {},
   "source": [
    "Solving for $\\eta$ in terms of $n_{\\text{U5}}$, we find\n",
    "\n",
    "$$ n_{\\text{U5}} = \\frac{\\nu\\sigma_{f,\\text{U8}} - \\eta\\sigma_{a,\\text{U8}}}{\\eta\\sigma_{a,\\text{U5}} - \\eta\\sigma_{a,\\text{U8}} - \\nu \\sigma_{f,\\text{U5}} + \\nu \\sigma_{f,\\text{U8}}}$$"
   ]
  },
  {
   "cell_type": "code",
   "execution_count": 7,
   "metadata": {
    "collapsed": true
   },
   "outputs": [],
   "source": [
    "def enrich(eta):\n",
    "    n_U5 = (nu*xs_f['U238']-eta*xs_a['U238'])/(eta*xs_a['U235']-eta*xs_a['U238']-nu*xs_f['U235']+nu*xs_f['U238'])\n",
    "    return n_U5"
   ]
  },
  {
   "cell_type": "markdown",
   "metadata": {},
   "source": [
    "A critical reactor requires at a minimum that $\\eta = 1$. When this is the case,"
   ]
  },
  {
   "cell_type": "code",
   "execution_count": 8,
   "metadata": {
    "collapsed": false
   },
   "outputs": [
    {
     "name": "stdout",
     "output_type": "stream",
     "text": [
      "0.3616127930806935\n"
     ]
    }
   ],
   "source": [
    "min_n_U5 = enrich(eta=1)\n",
    "print(min_n_U5*100)"
   ]
  },
  {
   "cell_type": "markdown",
   "metadata": {},
   "source": [
    "A breeder reactor requires at a minimum that $\\eta=2$. This means,"
   ]
  },
  {
   "cell_type": "code",
   "execution_count": 9,
   "metadata": {
    "collapsed": false
   },
   "outputs": [
    {
     "name": "stdout",
     "output_type": "stream",
     "text": [
      "8.831689193621761\n"
     ]
    }
   ],
   "source": [
    "min_n_U5_breeder = enrich(eta=2)\n",
    "print(min_n_U5_breeder*100)"
   ]
  }
 ],
 "metadata": {
  "kernelspec": {
   "display_name": "Python 3",
   "language": "python",
   "name": "python3"
  },
  "language_info": {
   "codemirror_mode": {
    "name": "ipython",
    "version": 3
   },
   "file_extension": ".py",
   "mimetype": "text/x-python",
   "name": "python",
   "nbconvert_exporter": "python",
   "pygments_lexer": "ipython3",
   "version": "3.6.0"
  }
 },
 "nbformat": 4,
 "nbformat_minor": 2
}
