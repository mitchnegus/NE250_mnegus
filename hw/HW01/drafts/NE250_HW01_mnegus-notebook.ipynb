{
 "cells": [
  {
   "cell_type": "markdown",
   "metadata": {},
   "source": [
    "# NE 250 – Homework 1\n",
    "###### 9/22/2017"
   ]
  },
  {
   "cell_type": "markdown",
   "metadata": {},
   "source": [
    "## Problem 1"
   ]
  },
  {
   "cell_type": "markdown",
   "metadata": {},
   "source": [
    "The number of molecules, $N$, found in a sample of a compound with mass $M$ is \n",
    "$$ N(\\cdot) = \\frac{M(\\cdot) N_A}{m(\\cdot)} $$\n",
    "where $m$ is the molar mass of the compound, and $N_A$ is Avogadro's number ($N_A = 6.022 \\times 10^{23}$ molecules per mole). Since each actinide isotope is found only once in a molecule of its respective oxide, $N$ also gives the number of atoms of an isotope in the sample. "
   ]
  },
  {
   "cell_type": "code",
   "execution_count": 1,
   "metadata": {
    "collapsed": true
   },
   "outputs": [],
   "source": [
    "def molecule_count(M,m):\n",
    "    N_A = 6.022e23\n",
    "    N = M*N_A/m\n",
    "    return N"
   ]
  },
  {
   "cell_type": "markdown",
   "metadata": {},
   "source": [
    "To find $N$, we begin by finding the masses of the compounds in the fuel. We can decompose the total mass of the fuel, $M_f$, into its mixed oxide components:\n",
    "$$ M_f = M(\\text{UO}_2) + M(\\text{PuO}_2). $$"
   ]
  },
  {
   "cell_type": "markdown",
   "metadata": {},
   "source": [
    "Given a weight percent for plutonium, $w_{\\text{P}}$, we note that $w_{\\text{U}} = 1-w_{\\text{P}}$ and so calculate the total masses of both the UO$_2$ and the PuO$_2$ to be\n",
    "$$ M(\\text{UO}_2) = (1-w_{\\text{P}})M_f\t$$\n",
    "$$ M(\\text{PuO}_2) = w_{\\text{P}}M_f. $$"
   ]
  },
  {
   "cell_type": "code",
   "execution_count": 2,
   "metadata": {
    "collapsed": true
   },
   "outputs": [],
   "source": [
    "w_p = 0.3"
   ]
  },
  {
   "cell_type": "code",
   "execution_count": 3,
   "metadata": {
    "collapsed": false
   },
   "outputs": [],
   "source": [
    "def mass_oxide(w,M_f):\n",
    "    M_oxide = w*M_f\n",
    "    return M_oxide"
   ]
  },
  {
   "cell_type": "markdown",
   "metadata": {},
   "source": [
    "The mass of the oxide component for a given isotope is given by \n",
    "$$ M(^{i}\\text{XO}_2) = w_i M(\\text{XO}_2) $$ \n",
    "where $w_i$ is the weight percent of the oxide of isotope $^{i}X$ out of element $X$."
   ]
  },
  {
   "cell_type": "code",
   "execution_count": 4,
   "metadata": {
    "collapsed": false
   },
   "outputs": [],
   "source": [
    "def mass_isotope_oxide(w_i,M_oxide):\n",
    "    M_i_oxide = w_i*M_oxide\n",
    "    return M_i_oxide"
   ]
  },
  {
   "cell_type": "code",
   "execution_count": 5,
   "metadata": {
    "collapsed": true
   },
   "outputs": [],
   "source": [
    "# Provided weight percents\n",
    "w = {'U238': 1, # all U is U238\n",
    "     'Pu239': 0.697,\n",
    "     'Pu240': 0.218,\n",
    "     'Pu241': 0.058,\n",
    "     'Pu242': 0.027\n",
    "    }"
   ]
  },
  {
   "cell_type": "markdown",
   "metadata": {},
   "source": [
    "Next, we must determine the molar masses of the various oxides. In general,\n",
    "$$ m(^{i}\\text{XO}_2) = m(^{i}\\text{X}) + 2m(\\text{O}), $$"
   ]
  },
  {
   "cell_type": "code",
   "execution_count": 6,
   "metadata": {
    "collapsed": true
   },
   "outputs": [],
   "source": [
    "def molar_mass_isotope_oxide(m_i,m_o):\n",
    "    m_i_oxide = m_i + 2*m_o\n",
    "    return m_i_oxide"
   ]
  },
  {
   "cell_type": "markdown",
   "metadata": {},
   "source": [
    "Finally, we use both the total mass of a compound with its molar mass in the original formula, using provided or tabulated values:"
   ]
  },
  {
   "cell_type": "code",
   "execution_count": 7,
   "metadata": {
    "collapsed": true
   },
   "outputs": [],
   "source": [
    "# Tabulated molar masses [g/mol]\n",
    "m = {'U238':  238.051,\n",
    "     'Pu239': 239.052,\n",
    "     'Pu240': 240.054,\n",
    "     'Pu241': 241.057,\n",
    "     'Pu242': 242.059,\n",
    "     'O16': 15.995\n",
    "    }"
   ]
  },
  {
   "cell_type": "code",
   "execution_count": 8,
   "metadata": {
    "collapsed": false
   },
   "outputs": [
    {
     "name": "stdout",
     "output_type": "stream",
     "text": [
      "U238 :  6.690095207764747e+20\n",
      "Pu239 :  4.645775193512445e+20\n",
      "Pu240 :  1.4477025775242242e+20\n",
      "Pu241 :  3.837537127307754e+19\n",
      "Pu242 :  1.7799079726618233e+19\n"
     ]
    }
   ],
   "source": [
    "# Assume 1 gram of total fuel\n",
    "M_f = 1\n",
    "\n",
    "isotopes = ['U238','Pu239','Pu240','Pu241','Pu242']\n",
    "for i in isotopes:\n",
    "    M_i_ox = mass_isotope_oxide(w[i],mass_oxide(w_p,M_f))\n",
    "    m_i_ox = molar_mass_isotope_oxide(m[i],m['O16'])\n",
    "    N = molecule_count(M_i_ox,m_i_ox)\n",
    "    print(i,': ',N)"
   ]
  },
  {
   "cell_type": "markdown",
   "metadata": {},
   "source": [
    "## Problem 2"
   ]
  },
  {
   "cell_type": "markdown",
   "metadata": {},
   "source": [
    "The mean free path of a particle is given by the formula\n",
    "$$ \\lambda = \\frac{1}{\\Sigma_t} $$\n",
    "\n",
    "when scattering is considered to be isotropic. The macroscopic scattering cross section can be reexpressed in terms of the number density of the material, $n$, and the microscopic cross section, $\\sigma_t$. For mixtures, the macroscopic cross section is the sum of the macroscopic cross sections of its components.\n",
    "$$ \\Sigma_{t,\\text{mix}} = \\sum_i \\Sigma_{t,i} = \\sum_i n_i \\sigma_i $$\n",
    "\n",
    "Additionally, the number density of the material can be found from the material density, $\\rho$, the molar mass of the material, $m$, and Avogadro's number.\n",
    "$$ n = \\frac{\\rho_i N_A}{m_i} $$\n",
    "\n",
    "Then the mean free path is\n",
    "$$ \\lambda = \\frac{1}{\\sum_i \\frac{\\rho_i N_A \\sigma_{t,i}}{m_i}} $$"
   ]
  },
  {
   "cell_type": "code",
   "execution_count": 118,
   "metadata": {
    "collapsed": false
   },
   "outputs": [],
   "source": [
    "def mfp(energy,medium,xs,rho,m):\n",
    "    # Mean free path [cm]\n",
    "    return 1/macroXS_mix(energy,medium,rho,m,xs)\n",
    "\n",
    "def macroXS_mix(energy,medium,rho,m,xs):\n",
    "    # Macroscopic cross section of a mixture of isotopes [cm^2]\n",
    "    Sig_t_mix = 0\n",
    "    if energy == '14MeV': E = 0   \n",
    "    elif energy == '1MeV': E = 1\n",
    "    elif energy == '0.05eV': E = 2\n",
    "    for isotope in rho:\n",
    "        Sig_t_mix += macroXS(rho[isotope],m[isotope],xs[isotope][E])\n",
    "    return Sig_t_mix\n",
    "\n",
    "def macroXS(rho_i,m_i,xs_i):\n",
    "    # Macroscopic cross section of an isotope [cm^2]\n",
    "    N_A = 6.022e23\n",
    "    Sig_t = rho_i*N_A*xs_i*1e-24/m_i\n",
    "    return Sig_t"
   ]
  },
  {
   "cell_type": "markdown",
   "metadata": {},
   "source": [
    "### Densities"
   ]
  },
  {
   "cell_type": "markdown",
   "metadata": {},
   "source": [
    "#### Air\n",
    "\n",
    "Air is 75.5% nitrogen, 23.1% oxygen, and 1.3% argon by mass according to [NIST](https://physics.nist.gov/cgi-bin/Star/compos.pl?matno=104). We will assume that the nitrogen is entirely $^{14}$N, oxygen is entirely $^{16}$O, and $^{40}$Ar, which comprise more than 99.5% of their respective element naturally."
   ]
  },
  {
   "cell_type": "code",
   "execution_count": 119,
   "metadata": {
    "collapsed": false
   },
   "outputs": [],
   "source": [
    "# Density [g/cm^3]\n",
    "rho_air = 1.20e-3\n",
    "rho_a = {'N14': 0.755*rho_air,\n",
    "         'O16': 0.231*rho_air,\n",
    "         'Ar40': 0.013*rho_air\n",
    "        }"
   ]
  },
  {
   "cell_type": "markdown",
   "metadata": {},
   "source": [
    "#### Water\n",
    "Water is 11.2% hydrogen and 88.8% oxygen by mass. We are assuming the hydrogen is entirely $^{1}$H and the oxygen is entirely $^{16}$O."
   ]
  },
  {
   "cell_type": "code",
   "execution_count": 120,
   "metadata": {
    "collapsed": false
   },
   "outputs": [],
   "source": [
    "# Density [g/cm^3]\n",
    "rho_water = 1\n",
    "rho_w = {'H1': 0.112*rho_water,\n",
    "         'O16': 0.888*rho_water\n",
    "        }"
   ]
  },
  {
   "cell_type": "markdown",
   "metadata": {},
   "source": [
    "#### Uranium\n",
    "\n",
    "Natural uranium is 99.3% U238 and 0.7% U235 by mass according to the [World Nuclear Association](http://www.world-nuclear.org/information-library/nuclear-fuel-cycle/conversion-enrichment-and-fabrication/uranium-enrichment.aspx). "
   ]
  },
  {
   "cell_type": "code",
   "execution_count": 121,
   "metadata": {
    "collapsed": false
   },
   "outputs": [],
   "source": [
    "# Density [g/cm^3]\n",
    "rho_uranium = 19.1\n",
    "rho_u = {'U235': 0.007*rho_uranium,\n",
    "         'U238': 0.993*rho_uranium\n",
    "        }"
   ]
  },
  {
   "cell_type": "markdown",
   "metadata": {},
   "source": [
    "### Molar Masses"
   ]
  },
  {
   "cell_type": "code",
   "execution_count": 122,
   "metadata": {
    "collapsed": true
   },
   "outputs": [],
   "source": [
    "# Molar mass [g/mol]\n",
    "m = {'H1': 1.008,\n",
    "     'N14': 14.003,\n",
    "     'O16': 15.995,\n",
    "     'Ar40': 39.962,\n",
    "     'U235': 235.044,\n",
    "     'U238': 238.051\n",
    "    }"
   ]
  },
  {
   "cell_type": "markdown",
   "metadata": {},
   "source": [
    "### Cross Sections\n",
    "\n",
    "Microscopic cross sections are from ENDF/B-VII.1, found using [KAERI](http://atom.kaeri.re.kr/nuchart/)"
   ]
  },
  {
   "cell_type": "code",
   "execution_count": 123,
   "metadata": {
    "collapsed": true
   },
   "outputs": [],
   "source": [
    "# Cross sections at 14 MeV, 1 MeV, and 0.05 eV [b]\n",
    "xs = {'H1': (0.687,4.246,20.673),\n",
    "          'N14': (1.569,2.345,11.264),\n",
    "          'O16': (1.592,8.154,3.852),\n",
    "          'Ar40': (2.290,3.135,1.116),\n",
    "          'U235': (5.831,6.800,472.885),\n",
    "          'U238': (5.858,7.068,9.862)\n",
    "         }"
   ]
  },
  {
   "cell_type": "markdown",
   "metadata": {},
   "source": [
    "### Calculations"
   ]
  },
  {
   "cell_type": "code",
   "execution_count": 128,
   "metadata": {
    "collapsed": false
   },
   "outputs": [],
   "source": [
    "def loop_media(energy):\n",
    "    print('Mean Free Path in')\n",
    "    for medium in ['air','water','uranium']:\n",
    "        if medium == 'air': rho = rho_a\n",
    "        elif medium == 'water': rho = rho_w\n",
    "        elif medium == 'uranium': rho = rho_u\n",
    "        print('\\t{}\\t{} cm'.format(medium,round(mfp(energy,medium,xs,rho,m),2)))"
   ]
  },
  {
   "cell_type": "markdown",
   "metadata": {},
   "source": [
    "***a) 14 MeV neutrons in air, water, and uranium***"
   ]
  },
  {
   "cell_type": "code",
   "execution_count": 130,
   "metadata": {
    "collapsed": false,
    "scrolled": true
   },
   "outputs": [
    {
     "name": "stdout",
     "output_type": "stream",
     "text": [
      "Mean Free Path in\n",
      "\tair\t12773.78 cm\n",
      "\twater\t10.08 cm\n",
      "\turanium\t3.53 cm\n"
     ]
    }
   ],
   "source": [
    "energy = '14MeV'\n",
    "loop_media(energy)                                "
   ]
  },
  {
   "cell_type": "markdown",
   "metadata": {},
   "source": [
    "***b) 1 MeV neutrons in air, water, and uranium***"
   ]
  },
  {
   "cell_type": "code",
   "execution_count": 131,
   "metadata": {
    "collapsed": false
   },
   "outputs": [
    {
     "name": "stdout",
     "output_type": "stream",
     "text": [
      "Mean Free Path in\n",
      "\tair\t5643.26 cm\n",
      "\twater\t1.8 cm\n",
      "\turanium\t2.93 cm\n"
     ]
    }
   ],
   "source": [
    "energy = '1MeV'\n",
    "loop_media(energy)                                "
   ]
  },
  {
   "cell_type": "markdown",
   "metadata": {},
   "source": [
    "***c) 0.05 eV Neutrons in air, water, and uranium***"
   ]
  },
  {
   "cell_type": "code",
   "execution_count": 132,
   "metadata": {
    "collapsed": false
   },
   "outputs": [
    {
     "name": "stdout",
     "output_type": "stream",
     "text": [
      "Mean Free Path in\n",
      "\tair\t2086.21 cm\n",
      "\twater\t0.66 cm\n",
      "\turanium\t1.57 cm\n"
     ]
    }
   ],
   "source": [
    "energy = '0.05eV'\n",
    "loop_media(energy)                                "
   ]
  }
 ],
 "metadata": {
  "kernelspec": {
   "display_name": "Python 3",
   "language": "python",
   "name": "python3"
  },
  "language_info": {
   "codemirror_mode": {
    "name": "ipython",
    "version": 3
   },
   "file_extension": ".py",
   "mimetype": "text/x-python",
   "name": "python",
   "nbconvert_exporter": "python",
   "pygments_lexer": "ipython3",
   "version": "3.6.0"
  }
 },
 "nbformat": 4,
 "nbformat_minor": 2
}
