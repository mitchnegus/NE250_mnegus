{
 "cells": [
  {
   "cell_type": "markdown",
   "metadata": {},
   "source": [
    "# NE 250 – Homework 1\n",
    "###### 9/22/2017"
   ]
  },
  {
   "cell_type": "markdown",
   "metadata": {},
   "source": [
    "## Problem 1"
   ]
  },
  {
   "cell_type": "markdown",
   "metadata": {},
   "source": [
    "The number of molecules, $N$, found in a sample of a compound with mass $M$ is \n",
    "$$ N(\\cdot) = \\frac{M(\\cdot) N_A}{m(\\cdot)} $$\n",
    "where $m$ is the molar mass of the compound, and $N_A$ is Avogadro's number ($N_A = 6.022 \\times 10^{23}$ molecules per mole). Since each actinide isotope is found only once in a molecule of its respective oxide, $N$ also gives the number of atoms of an isotope in the sample. "
   ]
  },
  {
   "cell_type": "code",
   "execution_count": 1,
   "metadata": {
    "collapsed": true
   },
   "outputs": [],
   "source": [
    "def molecule_count(M,m):\n",
    "    N_A = 6.022e23\n",
    "    N = M*N_A/m\n",
    "    return N"
   ]
  },
  {
   "cell_type": "markdown",
   "metadata": {},
   "source": [
    "To find $N$, we begin by finding the masses of the compounds in the fuel. We can decompose the total mass of the fuel, $M_f$, into its mixed oxide components:\n",
    "$$ M_f = M(\\text{UO}_2) + M(\\text{PuO}_2). $$"
   ]
  },
  {
   "cell_type": "markdown",
   "metadata": {},
   "source": [
    "Given a weight percent for plutonium, $w_{\\text{P}}$, we note that $w_{\\text{U}} = 1-w_{\\text{P}}$ and so calculate the total masses of both the UO$_2$ and the PuO$_2$ to be\n",
    "$$ M(\\text{UO}_2) = (1-w_{\\text{P}})M_f\t$$\n",
    "$$ M(\\text{PuO}_2) = w_{\\text{P}}M_f. $$"
   ]
  },
  {
   "cell_type": "code",
   "execution_count": 2,
   "metadata": {
    "collapsed": true
   },
   "outputs": [],
   "source": [
    "w_p = 0.3"
   ]
  },
  {
   "cell_type": "code",
   "execution_count": 3,
   "metadata": {
    "collapsed": false
   },
   "outputs": [],
   "source": [
    "def mass_oxide(w,M_f):\n",
    "    M_oxide = w*M_f\n",
    "    return M_oxide"
   ]
  },
  {
   "cell_type": "markdown",
   "metadata": {},
   "source": [
    "The mass of the oxide component for a given isotope is given by \n",
    "$$ M(^{i}\\text{XO}_2) = w_i M(\\text{XO}_2) $$ \n",
    "where $w_i$ is the weight percent of the oxide of isotope $^{i}X$ out of element $X$."
   ]
  },
  {
   "cell_type": "code",
   "execution_count": 4,
   "metadata": {
    "collapsed": false
   },
   "outputs": [],
   "source": [
    "def mass_isotope_oxide(w_i,M_oxide):\n",
    "    M_i_oxide = w_i*M_oxide\n",
    "    return M_i_oxide"
   ]
  },
  {
   "cell_type": "code",
   "execution_count": 5,
   "metadata": {
    "collapsed": true
   },
   "outputs": [],
   "source": [
    "# Provided weight percents\n",
    "w = {'U238': 1, # all U is U238\n",
    "     'Pu239': 0.697,\n",
    "     'Pu240': 0.218,\n",
    "     'Pu241': 0.058,\n",
    "     'Pu242': 0.027\n",
    "    }"
   ]
  },
  {
   "cell_type": "markdown",
   "metadata": {},
   "source": [
    "Next, we must determine the molar masses of the various oxides. In general,\n",
    "$$ m(^{i}\\text{XO}_2) = m(^{i}\\text{X}) + 2m(\\text{O}), $$"
   ]
  },
  {
   "cell_type": "code",
   "execution_count": 6,
   "metadata": {
    "collapsed": true
   },
   "outputs": [],
   "source": [
    "def molar_mass_isotope_oxide(m_i,m_o):\n",
    "    m_i_oxide = m_i + 2*m_o\n",
    "    return m_i_oxide"
   ]
  },
  {
   "cell_type": "markdown",
   "metadata": {},
   "source": [
    "Finally, we use both the total mass of a compound with its molar mass in the original formula, using provided or tabulated values:"
   ]
  },
  {
   "cell_type": "code",
   "execution_count": 9,
   "metadata": {
    "collapsed": true
   },
   "outputs": [],
   "source": [
    "# Tabulated molar masses [g/mol]\n",
    "m = {'U238':  238.051,\n",
    "     'Pu239': 239.052,\n",
    "     'Pu240': 240.054,\n",
    "     'Pu241': 241.057,\n",
    "     'Pu242': 242.059,\n",
    "     'O16': 15.995\n",
    "    }"
   ]
  },
  {
   "cell_type": "code",
   "execution_count": 10,
   "metadata": {
    "collapsed": false
   },
   "outputs": [
    {
     "name": "stdout",
     "output_type": "stream",
     "text": [
      "U238 :  6.690095207764747e+20\n",
      "Pu239 :  4.645775193512445e+20\n",
      "Pu240 :  1.4477025775242242e+20\n",
      "Pu241 :  3.837537127307754e+19\n",
      "Pu242 :  1.7799079726618233e+19\n"
     ]
    }
   ],
   "source": [
    "# Assume 1 gram of total fuel\n",
    "M_f = 1\n",
    "\n",
    "isotopes = ['U238','Pu239','Pu240','Pu241','Pu242']\n",
    "for i in isotopes:\n",
    "    M_i_ox = mass_isotope_oxide(w[i],mass_oxide(w_p,M_f))\n",
    "    m_i_ox = molar_mass_isotope_oaxide(m[i],m['O16'])\n",
    "    N = molecule_count(M_i_ox,m_i_ox)\n",
    "    print(i,': ',N)"
   ]
  },
  {
   "cell_type": "markdown",
   "metadata": {},
   "source": [
    "## Problem 2"
   ]
  },
  {
   "cell_type": "markdown",
   "metadata": {},
   "source": [
    "The mean free path of a particle is given by the formula\n",
    "$$ \\lambda = \\frac{1}{\\Sigma_t} $$\n",
    "when scattering is considered to be isotropic."
   ]
  },
  {
   "cell_type": "code",
   "execution_count": null,
   "metadata": {
    "collapsed": true
   },
   "outputs": [],
   "source": []
  }
 ],
 "metadata": {
  "kernelspec": {
   "display_name": "Python 3",
   "language": "python",
   "name": "python3"
  },
  "language_info": {
   "codemirror_mode": {
    "name": "ipython",
    "version": 3
   },
   "file_extension": ".py",
   "mimetype": "text/x-python",
   "name": "python",
   "nbconvert_exporter": "python",
   "pygments_lexer": "ipython3",
   "version": "3.6.0"
  }
 },
 "nbformat": 4,
 "nbformat_minor": 2
}
